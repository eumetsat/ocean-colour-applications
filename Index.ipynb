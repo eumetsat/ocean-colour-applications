{
 "cells": [
  {
   "cell_type": "markdown",
   "metadata": {
    "Collapsed": "false"
   },
   "source": [
    "<img src='https://gitlab.eumetsat.int/eumetlab/oceans/ocean-training/tools/frameworks/-/raw/main/img/Standard_banner.png' align='right' width='100%'/>"
   ]
  },
  {
   "cell_type": "markdown",
   "metadata": {},
   "source": [
    "<font color=\"#138D75\">**Copernicus Marine Training Service**</font> <br>\n",
    "**Copyright:** 2025 European Union <br>\n",
    "**License:** MIT <br>\n",
    "**Authors:** Ben Loveday (EUMETSAT/Innoflair UG), Hayley Evers-King (EUMETSAT), Anna-Lena Erdmann (EUMETSAT), Juan Ignacio-Gossn (EUMETSAT), Ana Ruescas (Brockmann Consult GmbH / University of Valencia), Aida Alvera-Azcárate (GHER), Kevin Ruddick (RBINS), Lauren Biermann (Plymouth University), Nima Pahlevan (NASA) and Brandom Smith (NASA)."
   ]
  },
  {
   "cell_type": "markdown",
   "metadata": {},
   "source": [
    "<div class=\"alert alert-block alert-success\">\n",
    "<h3>Ocean colour applications</h3></div>"
   ]
  },
  {
   "cell_type": "markdown",
   "metadata": {
    "Collapsed": "false"
   },
   "source": [
    "# Index for the ocean-colour-applications module\n",
    "\n",
    "### Module outline\n",
    "\n",
    "Welecome to the **ocean-colour-applications** module. This repository consists of a series of Python-based Jupyter notebooks designed to demonstrate ocean colour theory and applications; particularly those that are relevant to the Ocean and Land Colour Instrument (OLCI), carried by the Sentinel-3 satellites at level-1b and level-2. \n",
    "\n",
    "<hr>\n",
    "\n",
    "### How to use this material\n",
    "\n",
    "This module is based around a series of <a href=\"https://jupyter.org/\" target=\"_blank\">Jupyter Notebooks</a>. These support high-level interactive learning by allowing us to combine code, text descriptions and data visualisations. If you have not worked with Jupyter Notebooks before, please look at the <a href=\"./working-with-python/Intro_to_Python_and_Jupyter.ipynb\" target=\"_blank\">Introduction to Python and Project Jupyter</a> module to get a short introduction to their usage and benefits. Refer to this module's <a href=\"https://gitlab.eumetsat.int/eumetlab/oceans/ocean-training/applications/ocean-case-studies\" target=\"_blank\">README</a> for further information on how to set up Jupyter.\n",
    "\n",
    "This module is split into the following **components**:\n",
    "* <font color=\"#1F618D\">**conceptual models**</font>: contains tools to demonstrate based ocean colour theory.\n",
    "* <font color=\"#1E8449\">**methodological processes**</font>: contains examples of specific approaches to working with satellite-based ocean colour data.\n",
    "\n",
    "<hr>\n",
    "\n",
    "### Learning outcomes\n",
    "\n",
    "From this module, you can expect to learn:\n",
    "* How to use a series of machine learning techniques to work with Earth observation data from level 1b to level 4.\n",
    "\n",
    "<hr>"
   ]
  },
  {
   "cell_type": "markdown",
   "metadata": {},
   "source": [
    "<div class=\"alert alert-info\" role=\"alert\">\n",
    "\n",
    "## <a id='TOC-TOP'></a>Contents\n",
    "\n",
    "</div>\n",
    "\n",
    "### <font color=\"#1F618D\">**Conceptual models**</font>\n",
    "\n",
    "* <a href=\"./1_conceptual_models/Ocean_colour_forward_model/Run_model.ipynb\" target=\"_blank\">Ocean colour forward model</a> - **this module provides an interactive introduction on how changes in optical components affects the reflectance spectra of water. It was developed in collaboration with RBINS.**\n",
    "\n",
    "### <font color=\"#1E8449\">**Methodological processes**</font>\n",
    "\n",
    "#### In situ validation:\n",
    "\n",
    "* <a href=\"./2_methodological_approaches/Insitu_comparison/Ocean_colour_validation_cruise_tracks.ipynb\" target=\"_blank\">Validating ocean colour products with cruise track data using the ThoMaS toolkit (ESA OTC 2025)</a> *(<font color=\"#1E8449\">**Copernicus Sentinel-3 OLCI level-2 products**</font>)*\n",
    "\n",
    "#### Using eocanvas serverless functions:\n",
    "\n",
    "* <a href=\"./2_methodological_approaches/eocanvas/Multi_sensor_CHL_comparison_WEkEO.ipynb\" target=\"_blank\">Multi-sensor chlorophyll comparison in the Baltic Sea using WEkEO serverless functions (EGU 2025)</a> *(<font color=\"#1E8449\">**Copernicus Sentinel-3 OLCI level-2 products**</font>)*\n"
   ]
  },
  {
   "cell_type": "markdown",
   "metadata": {},
   "source": [
    "<hr>\n",
    "<a href=\"https://gitlab.eumetsat.int/eumetlab/ocean\">View on GitLab</a> | <a href=\"https://training.eumetsat.int/\">EUMETSAT Training</a> | <a href=mailto:ops@eumetsat.int>Contact helpdesk for support </a> | <a href=mailto:Copernicus.training@eumetsat.int>Contact our training team to collaborate on and reuse this material</a></span></p>"
   ]
  }
 ],
 "metadata": {
  "kernelspec": {
   "display_name": "Python 3 (ipykernel)",
   "language": "python",
   "name": "python3"
  },
  "language_info": {
   "codemirror_mode": {
    "name": "ipython",
    "version": 3
   },
   "file_extension": ".py",
   "mimetype": "text/x-python",
   "name": "python",
   "nbconvert_exporter": "python",
   "pygments_lexer": "ipython3",
   "version": "3.10.17"
  }
 },
 "nbformat": 4,
 "nbformat_minor": 4
}
