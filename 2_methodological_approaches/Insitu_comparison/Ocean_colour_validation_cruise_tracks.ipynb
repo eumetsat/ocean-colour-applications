{
 "cells": [
  {
   "cell_type": "markdown",
   "metadata": {
    "editable": true,
    "slideshow": {
     "slide_type": ""
    },
    "tags": []
   },
   "source": [
    "<img src='https://gitlab.eumetsat.int/eumetlab/oceans/ocean-training/tools/frameworks/-/raw/main/img/Standard_banner.png' align='right' width='100%'/>"
   ]
  },
  {
   "cell_type": "markdown",
   "metadata": {},
   "source": [
    "<a href=\"../../Index.ipynb\" target=\"_blank\"><< Index</a>"
   ]
  },
  {
   "cell_type": "markdown",
   "metadata": {},
   "source": [
    "<font color=\"#138D75\">**Copernicus Marine Training Service**</font> <br>\n",
    "**Copyright:** 2025 European Union <br>\n",
    "**License:** MIT <br>\n",
    "**Authors:** Ben Loveday (EUMETSAT/Innoflair UG), Hayley Evers-King (EUMETSAT), Juan Ignacio-Gossn (EUMETSAT)"
   ]
  },
  {
   "cell_type": "markdown",
   "metadata": {},
   "source": [
    "<html>\n",
    "   <div style=\"float:left\"><p>&emsp;</p></div>\n",
    "   <div style=\"float:left\"><a href=\"https://gitlab.eumetsat.int/eumetlab/oceans/ocean-training/applications/ocean-colour-applications\"><img src=\"https://img.shields.io/badge/open-EUMETLAB-E67E22.svg\"></a></div>\n",
    "   <div style=\"float:left\"><p>&emsp;</p></div>\n",
    "   <div style=\"float:left\"><a href=\"https://user.eumetsat.int/data/themes/marine\"><img src=\"https://img.shields.io/badge/open-USER PORTAL-154360.svg\"></a></div>\n",
    "   <div style=\"float:left\"><p>&emsp;</p></div>\n",
    "   <div style=\"float:left\"><a href=\"https://jupyterhub.prod.wekeo2.eu/hub/\"><img src=\"https://img.shields.io/badge/launch-WEKEO-1a4696.svg\"></a></div>\n",
    "   <div style=\"float:left\"><p>&emsp;</p></div>\n",
    "   <div style=\"float:left\"><a href=\"https://code.insula.destine.eu/hub/\"><img src=\"https://img.shields.io/badge/launch-DestinE-f43fd3.svg\"></a></div></div>\n",
    "</html>"
   ]
  },
  {
   "cell_type": "markdown",
   "metadata": {},
   "source": [
    "<div class=\"alert alert-block alert-success\">\n",
    "<h3>Ocean colour applications</h3></div>"
   ]
  },
  {
   "cell_type": "markdown",
   "metadata": {
    "editable": true,
    "slideshow": {
     "slide_type": ""
    },
    "tags": []
   },
   "source": [
    "<div class=\"alert alert-block alert-warning\">\n",
    "    \n",
    "<b>PREREQUISITES </b>\n",
    "    \n",
    "This notebook has the following prerequisites:\n",
    "- **<a href=\"https://user.eumetsat.int/cas/login\" target=\"_blank\">A EUMETSAT User Portal account</a>** to enable you to download products from the EUMETSAT Data Store.\n",
    "\n",
    "There are no prerequisite notebooks for this module, but you may be interested in the following GitLab repositories if you wish to learn more about using marine data from Sentinel-3 OLCI, or the ThoMaS Match-up validation toolkit:\n",
    "- **<a href=\"https://gitlab.eumetsat.int/eo-lab-usc-open/ocean/sensors/learn-olci\" target=\"_blank\">learn-olci</a>**\n",
    "- **<a href=\"https://gitlab.eumetsat.int/eumetlab/oceans/ocean-science-studies/ThoMaS\" target=\"_blank\">ThoMaS</a>**\n",
    "\n",
    "\n",
    "WHERE TO RUN THIS NOTEBOOK?\n",
    "\n",
    "This notebook can be run on a local machine or on a remote cloud system, and is tested on WEkEO and the DestinE Insula Code services. You can use the buttons at the top of the notebook to access these platforms, but you will need a free account on whichever service you choose. Full instructions for how to set up this notebook is provided in the README. Running on Binder is not possible due to the size of dependencies.\n",
    "</div>\n",
    "<hr>"
   ]
  },
  {
   "cell_type": "markdown",
   "metadata": {
    "editable": true,
    "slideshow": {
     "slide_type": ""
    },
    "tags": []
   },
   "source": [
    "# Validating ocean colour products with cruise track data using the ThoMaS toolkit\n",
    "<font color=\"#138D75\">**Devloped by EUMETSAT in support of the 2025 ESA OTC course**</font>\n",
    "\n",
    "\n",
    "### Data used\n",
    "\n",
    "| Dataset | EUMETSAT collection ID| EUMETSAT collection<br>description | WEkEO dataset ID | WEkEO description |\n",
    "|:--------------------:|:-----------------------:|:-------------:|:-----------------:|:-----------------:|\n",
    "| Sentinel-3 OLCI level 2 full resolution | EO:EUM:DAT:0407 | <a href=\"https://user.eumetsat.int/catalogue/EO:EUM:DAT:SENTINEL-3:OL_2_WFR___NTC\" target=\"_blank\">Description</a> | EO:EUM:DAT:SENTINEL-3:OL_2_WFR___ | <a href=\"https://www.wekeo.eu/data?view=dataset&dataset=EO%3AEUM%3ADAT%3ASENTINEL-3%3AOL_2_WFR___\" target=\"_blank\">Description</a> |\n",
    "| Sentinel-3 OLCI level 2 full resolution BC003 reprocessing | EO:EUM:DAT:0556 | <a href=\"https://user.eumetsat.int/catalogue/EO:EUM:DAT:0556\" target=\"_blank\">Description</a> | EO:EUM:DAT:SENTINEL-3:0556 | <a href=\"https://www.wekeo.eu/data?view=dataset&dataset=EO%3AEUM%3ADAT%3ASENTINEL-3%3A0556\" target=\"_blank\">Description</a> |\n",
    "\n",
    "### Learning outcomes\n",
    "\n",
    "At the end of this notebook you will know;\n",
    "* how to use the ThoMaS toolkit to perform OLCI match-up validation extractions and analyses against chlorophyll-a concentration data collected along a cruise track.\n",
    "\n",
    "### Outline\n",
    "\n",
    "Validation studies are essential to ensuring satellite sensor performance and a necessary part of algorithm development. The ThoMaS (Tool to generate Matchups of OC products with Sentinel-3/OLCI) package provides a comprehensive set of tools to help with the validation of OLCI products (as well as products from other satellites), supporting many common workflow elements including;\n",
    "* satellite data acquisition\n",
    "* mini file extraction\n",
    "* *in situ* data management\n",
    "* BRDF correction\n",
    "* Statistical analysis comparing in situ and satellite data \n",
    "\n",
    "ThoMaS provides a tool that incorporates protocols, that have been developed over many years via multiple satellite operations agencies, and interactions with the community. It works with inputs from standard databases (e.g. SeaBASS, and OCDB) and offers various configuration options, allowing users to compute comparable matchup analyses, but also have some flexibility for their own applications. \n",
    "\n",
    "ThoMaS is written in Python and is made available through a **<a href=\"https://gitlab.eumetsat.int/eumetlab/oceans/ocean-science-studies/ThoMaS\" target=\"_blank\">EUMETSAT Gitlab repository</a>**. The package can be used from the command line,  via a GUI, or imported as a Python library, as done here. This notebook contains 1 example of how to use ThoMaS. Further examples can be found in other notebooks e.g. on **<a href=\"https://gitlab.eumetsat.int/eumetlab/oceans/ocean-training/sensors/learn-olci/-/blob/main/2_OLCI_advanced/2_4_OLCI_matchup_validation.ipynb?ref_type=heads\" target=\"_blank\">OLCI Matchup validation</a>** and **<a href=\"https://gitlab.eumetsat.int/eumetlab/oceans/ocean-training/sensors/learn-olci/-/blob/main/2_OLCI_advanced/2_5_multisensor_matchup_validation.ipynb?ref_type=heads\" target=\"_blank\">Multisensor matchup validation</a>**. Many more command-line examples are included in the ThoMaS repository itself.\n",
    "\n",
    "We encourage users to familiarise themselves with both the **<a href=\"https://gitlab.eumetsat.int/eumetlab/oceans/ocean-science-studies/ThoMaS/-/blob/main/README.md\" target=\"_blank\">project README</a>** and **<a href=\"https://gitlab.eumetsat.int/eumetlab/oceans/ocean-science-studies/ThoMaS/-/blob/main/README_examples.md\" target=\"_blank\"> example README</a>** for more information\n",
    "\n",
    "\n",
    "Before we begin you should note that this notebook can be run locally, or on a remote cloud system, by cloning the **<a href=\"https://gitlab.eumetsat.int/eumetlab/oceans/ocean-training/applications/ocean-colour-applications\" target=\"_blank\">ocean-colour-applications</a>** repository. The **<a href=\"https://gitlab.eumetsat.int/eumetlab/oceans/ocean-training/applications/ocean-colour-applications/-/blob/main/README.md\" target=\"_blank\">README</a>** file will fully describe how to create an appropriate Python environment to run this code.\n",
    "\n",
    "**Note: to download the required EUMETSAT OLCI data, you will need to register for a <a href=\"https://user.eumetsat.int/cas/login\" target=\"_blank\">EUMETSAT User Portal</a> account. Please see the prerequisites for more information on how to do this**.\n",
    "\n",
    "ThoMaS is in continuous development, with more updates coming soon with advanced workflows including and propogating uncertainties, an updated GUI and serverless function integration with WEkEO to reduce data downloads and local processing needs.\n",
    "\n",
    "ThoMaS is a tool to support our user community so we would love your feedback, ideas, and contributions to its development. Please contact the\n",
    "<a href=mailto:ops@eumetsat.int target=\"_blank\">EUMETSAT helpdesk</a>.\n",
    "\n",
    "<div class=\"alert alert-info\" role=\"alert\">\n",
    "\n",
    "## <a id='TOC-TOP'></a>Contents\n",
    "\n",
    "</div>\n",
    "\n",
    "1. [Step 1: Setting up our analysis](#section1)\n",
    "1. [------: A quick preamble on functions](#section0)\n",
    "1. [Step 2: Loading and plotting our cruise tracks](#section2)\n",
    "1. [Step 3: Loading ThoMaS](#section3)\n",
    "1. [Step 4: Configuring ThoMaS](#section4)\n",
    "2. [What next?](#section6)\n",
    "\n",
    "<hr>"
   ]
  },
  {
   "cell_type": "markdown",
   "metadata": {
    "editable": true,
    "slideshow": {
     "slide_type": ""
    },
    "tags": []
   },
   "source": [
    "<div class=\"alert alert-info\" role=\"alert\">\n",
    "\n",
    "## <a id='section1'></a>Step 1: Setting up our analysis\n",
    "[Back to top](#TOC_TOP)\n",
    "\n",
    "</div>"
   ]
  },
  {
   "cell_type": "markdown",
   "metadata": {
    "editable": true,
    "slideshow": {
     "slide_type": ""
    },
    "tags": []
   },
   "source": [
    "We begin by importing all of the libraries that we need to run this notebook. If you have built your python using the environment file provided in this repository, then you should have everything you need. For more information on building environment, please see the repository **<a href=\"https://gitlab.eumetsat.int/eumetlab/oceans/ocean-training/applications/ocean-colour-applications/-/blob/main/README.md\" target=\"_blank\">README</a>**."
   ]
  },
  {
   "cell_type": "code",
   "execution_count": 1,
   "metadata": {},
   "outputs": [],
   "source": [
    "import os                                   # a library that allows us access to basic operating system commands like making directories\n",
    "import sys                                  # a library that provides access to system commands\n",
    "import pandas as pd                         # a library that helps us manipulate data \n",
    "import shutil                               # a library that allows us access to basic operating system commands like copy\n",
    "import numpy as np                          # a library that provides support for array-based mathematics\n",
    "from IPython.display import Image, display  # a library that helps us plot images\n",
    "import glob                                 # a library that helps us find files\n",
    "import datetime                             # a library that helps us handle dates\n",
    "import matplotlib.pyplot as plt             # a libray that helps us make plots\n",
    "import cartopy                              # a library that helps us map data "
   ]
  },
  {
   "cell_type": "markdown",
   "metadata": {
    "editable": true,
    "slideshow": {
     "slide_type": ""
    },
    "tags": []
   },
   "source": [
    "For our analysis, we will need the ThoMaS toolkit. The first thing we need to do is retrieve the tool kit itself. We can do this using the external `! git clone` command. This will create a directory called **ThoMaS** in this path and make the code available for import. If the directory already exists, this cell will be skipped."
   ]
  },
  {
   "cell_type": "code",
   "execution_count": null,
   "metadata": {
    "editable": true,
    "slideshow": {
     "slide_type": ""
    },
    "tags": []
   },
   "outputs": [],
   "source": [
    "if os.path.exists(os.path.join(\"ThoMaS\", \"main.py\")):\n",
    "    print(\"ThoMaS is already installed.\")\n",
    "else:\n",
    "    ! git clone https://gitlab.eumetsat.int/OC/External/ThoMaS.git"
   ]
  },
  {
   "cell_type": "markdown",
   "metadata": {},
   "source": [
    "Lets set a couple of quick parameters that help us with handling data. `pad` will set a buffer around our cruise data for plotting. `cruise_point_min`, `cruise_point_max` will subsample our cruise data as required, and `max_depth` will allows us to filter our data for shallow measurements."
   ]
  },
  {
   "cell_type": "code",
   "execution_count": null,
   "metadata": {
    "editable": true,
    "slideshow": {
     "slide_type": ""
    },
    "tags": []
   },
   "outputs": [],
   "source": [
    "pad = 1\n",
    "cruise_point_min = 0\n",
    "cruise_point_max = -1\n",
    "max_depth = 15"
   ]
  },
  {
   "cell_type": "markdown",
   "metadata": {
    "editable": true,
    "slideshow": {
     "slide_type": ""
    },
    "tags": []
   },
   "source": [
    "<div class=\"alert alert-warning\" role=\"alert\">\n",
    "\n",
    "## <a id='section0'></a>A quick preamble on functions\n",
    "[Back to top](#TOC_TOP)\n",
    "\n",
    "</div>"
   ]
  },
  {
   "cell_type": "markdown",
   "metadata": {},
   "source": [
    "Before we go any further we are going to define a couple of quick functions. The first helps us to write our configuration options to a file.\n",
    "\n",
    "*Note: We don't need to write our configurations in python, we could always just write the configuration file directly and point ThoMaS to it*"
   ]
  },
  {
   "cell_type": "code",
   "execution_count": null,
   "metadata": {},
   "outputs": [],
   "source": [
    "# Write config_params sections into config_file.ini\n",
    "def write_config_file(path_to_config_file,config_params):\n",
    "    with open(path_to_config_file, 'w') as text_file:\n",
    "        for section,section_params in config_params.items():\n",
    "            text_file.write('\\n[%s]\\n' % (section))\n",
    "            for param, value in section_params.items():\n",
    "                text_file.write('%s: %s\\n' % (param, value))"
   ]
  },
  {
   "cell_type": "markdown",
   "metadata": {
    "editable": true,
    "slideshow": {
     "slide_type": ""
    },
    "tags": []
   },
   "source": [
    "The second function simply just adds embellishments (gridlines, labels etc) to plots."
   ]
  },
  {
   "cell_type": "code",
   "execution_count": null,
   "metadata": {},
   "outputs": [],
   "source": [
    "def embellish_plot(m):\n",
    "    \"\"\"Quick function to embellish SLSTR plots with gridlines and labels\n",
    "\n",
    "    Args:\n",
    "        m (axis): the axis to plot into\n",
    "    Returns:\n",
    "        None\n",
    "    \"\"\"\n",
    "    # add some map embellishments\n",
    "    m.add_feature(cartopy.feature.NaturalEarthFeature('physical', 'land', '10m', edgecolor='k', facecolor='#546d51', linewidth=0.5), zorder=8)\n",
    "    g1 = m.gridlines(draw_labels = True, linestyle='--', zorder=10)\n",
    "    g1.top_labels = g1.right_labels = False\n",
    "    g1.xlabel_style = g1.ylabel_style = {'color': 'gray'}"
   ]
  },
  {
   "cell_type": "markdown",
   "metadata": {},
   "source": [
    "<div class=\"alert alert-info\" role=\"alert\">\n",
    "\n",
    "## <a id='section2'></a>Step 2: Loading and plotting our cruise track\n",
    "[Back to top](#TOC_TOP)\n",
    "\n",
    "</div>"
   ]
  },
  {
   "cell_type": "markdown",
   "metadata": {
    "editable": true,
    "slideshow": {
     "slide_type": ""
    },
    "tags": []
   },
   "source": [
    "<figure>\n",
    "  <img src='../../img/Cruise_track.png' align='right' width='55%'/>\n",
    "</figure>\n",
    "\n",
    "Lets start by taking a look at the proposed cruise track for the Statsraad Lehmkuhl for the ESA OTC 2025 course, as shown on the right. Here, the markers show us the way points logged for the cruise, and not all the actual sampling positions. Of course, as this cruise is ongoing we don't yet have any data to compare with any chlorophyll-a products, so we will use another cruise that covers some of the same area as an example.\n",
    "\n",
    "For our test cruise, we will use the first leg AWI Polerstern expedition <a href=\"https://www.frontiersin.org/journals/marine-science/articles/10.3389/fmars.2020.00235/full\">PS113</a> as it sampled northeastern Atlantic quite recently. The cruise data is also freely available through <a href=\"https://doi.pangaea.de/10.1594/PANGAEA.911061\">Pangaea</a>, and incudes pigment analysis. We will use the chlorophyll-a data from this instrument as the *in situ* data set for our analysis, but you could choose any other cruise to do the same analysis, provided you correctly map the data when you ingest it (more on this below).\n",
    "\n",
    "Lets read in the data from the cruise track, as stored in our \"tracks\" directory, using the `pandas` package (which we imported under the alias \"pd\"). Our specific cruise data is stored in the \"PS113_HPLC_pigments_PFTs_QCle30.tab\" file, which includes an 83-line header description followed by a series of tab-separated columns containing our data. We need to specify the number of header rows to skip them when reading the file, as well as the delimiter (in this case tab, or '\\t'). \n",
    "\n",
    "We will also subsample the output in time using our `cruise_subsample` parameter we set above."
   ]
  },
  {
   "cell_type": "code",
   "execution_count": null,
   "metadata": {},
   "outputs": [],
   "source": [
    "df = pd.read_csv(os.path.join(os.getcwd(), \"tracks\", \"PS113_HPLC_pigments_PFTs_QCle30.tab\"), header=83, delimiter='\\t')\n",
    "df = df[cruise_point_min:cruise_point_max]\n",
    "df = df[df[\"Depth water [m]\"] < 15]"
   ]
  },
  {
   "cell_type": "markdown",
   "metadata": {
    "editable": true,
    "slideshow": {
     "slide_type": ""
    },
    "tags": []
   },
   "source": [
    "Lets check our data out..."
   ]
  },
  {
   "cell_type": "code",
   "execution_count": null,
   "metadata": {},
   "outputs": [],
   "source": [
    "df"
   ]
  },
  {
   "cell_type": "markdown",
   "metadata": {
    "editable": true,
    "slideshow": {
     "slide_type": ""
    },
    "tags": []
   },
   "source": [
    "As we can see, we have the spatial and temporal data for the tracks, as well as the \"Chl a [µg/l] (total)\" data we need to extract for comparison. The time record provided by `pandas` is a little hard to work with, we'll quickly define our own for later use."
   ]
  },
  {
   "cell_type": "code",
   "execution_count": null,
   "metadata": {},
   "outputs": [],
   "source": [
    "cruise_times = [datetime.datetime.strptime(i, \"%Y-%m-%dT%H:%M\") + datetime.timedelta(days=5*365) for i in df[\"Date/Time\"]] \n",
    "# note: added 5 years because there's a temporary outage on our reprocessed OLCI collection \n",
    "#- should be available again next week, so change this back to run with 'real' matchups!"
   ]
  },
  {
   "cell_type": "markdown",
   "metadata": {},
   "source": [
    "Lets take a look at our cruise track, plotting the track and the associated underway Chl-a signal."
   ]
  },
  {
   "cell_type": "code",
   "execution_count": null,
   "metadata": {
    "editable": true,
    "slideshow": {
     "slide_type": ""
    },
    "tags": []
   },
   "outputs": [],
   "source": [
    "# set up our figure\n",
    "fig, m = plt.subplots(1, 1, figsize=(6, 6), dpi=150, subplot_kw={\"projection\": cartopy.crs.PlateCarree()})\n",
    "\n",
    "# plot cruise track and data points\n",
    "p2, = m.plot(df[\"Longitude\"], df[\"Latitude\"], zorder=1, color='0.5', transform = cartopy.crs.PlateCarree())\n",
    "p3 = m.scatter(df[\"Longitude\"], df[\"Latitude\"], c=np.log10(df[\"Chl a [µg/l]\"]), zorder=2, transform = cartopy.crs.PlateCarree(), cmap=\"viridis\", edgecolor=None)\n",
    "\n",
    "# plot colorbar\n",
    "cbar = plt.colorbar(p3, label=\"Chlorophyll-a total [[µg/l]\")\n",
    "tick_labels = [0.03, 0.1, 0.3, 1.0, 3.0]\n",
    "ticks = [np.log10(i) for i in tick_labels]\n",
    "cbar.set_ticks(ticks)\n",
    "cbar.set_ticklabels(tick_labels)\n",
    "\n",
    "# add some map embellishments\n",
    "embellish_plot(m)"
   ]
  },
  {
   "cell_type": "markdown",
   "metadata": {
    "editable": true,
    "slideshow": {
     "slide_type": ""
    },
    "tags": []
   },
   "source": [
    "<div class=\"alert alert-info\" role=\"alert\">\n",
    "\n",
    "## <a id='section3'></a>Loading ThoMaS\n",
    "[Back to top](#TOC-TOP)\n",
    "\n",
    "</div>"
   ]
  },
  {
   "cell_type": "markdown",
   "metadata": {
    "editable": true,
    "slideshow": {
     "slide_type": ""
    },
    "tags": []
   },
   "source": [
    "Before you use ThoMas, you must ensure that you have have completed the following two steps:\n",
    "1. Ensure that you have all the Python dependencies you need to run ThoMaS. If you have installed and activated the **cmts_ocean_colour_applications** environment then you are all set.\n",
    "1. Ensure that ThoMaS can access the EUMETSAT Data Store, which you can do by completing the \"**EUMDAC**\" section of the <a href=\"../../working-with-python/API_authentication.ipynb\" target=\"_blank\"> set credentials notebook</a>.\n",
    "\n",
    "ThoMaS can be used from the <a href=\"https://gitlab.eumetsat.int/eumetlab/oceans/ocean-science-studies/ThoMaS/-/blob/main/README_examples.md\" target=\"_blank\">command line</a>, but here we will use it as a Python library. Lets import ThoMaS into our notebook."
   ]
  },
  {
   "cell_type": "code",
   "execution_count": null,
   "metadata": {},
   "outputs": [],
   "source": [
    "sys.path.append(\"ThoMaS\")\n",
    "from main import ThoMaS_main as ThoMaS"
   ]
  },
  {
   "cell_type": "markdown",
   "metadata": {},
   "source": [
    "Now we should have ThoMaS imported and configured for use, so we can proceed with our examples."
   ]
  },
  {
   "cell_type": "markdown",
   "metadata": {
    "editable": true,
    "slideshow": {
     "slide_type": ""
    },
    "tags": []
   },
   "source": [
    "<div class=\"alert alert-info\" role=\"alert\">\n",
    "\n",
    "## <a id='section4'></a>Configuring ThoMaS for our experiment\n",
    "[Back to top](#TOC-TOP)\n",
    "\n",
    "</div>\n",
    "\n",
    "<div class=\"alert alert-success\" role=\"alert\">\n",
    "\n",
    "Run ThoMaS for:\n",
    "\n",
    "1. our in situ data to SeaBASS/OCDB format\n",
    "1. full matchup exercise: satellite extractions + minifiles + extraction statistics + matchup statistics\n",
    "1. apply the <a href=\"https://ioccg.org/bibliography/morel-a-antoine-d-and-b-gentili-2002/\" target=\"_blank\">Morel, Antoine and Gentili, 2002</a> BRDF correction to the reflectances (even though we won't use them here!)\n",
    "1. apply the <a href=\"https://user.eumetsat.int/s3/eup-strapi-media/Recommendations_for_Sentinel_3_OLCI_Ocean_Colour_product_validations_in_comparison_with_in_situ_measurements_Matchup_Protocols_V8_B_e6c62ce677.pdf standard extraction protocol\" target=\"_blank\">EUMETSAT standard protocol</a> for extractions and for insitu-extraction comparison.\n",
    "\n",
    "\n",
    "</div>"
   ]
  },
  {
   "cell_type": "markdown",
   "metadata": {},
   "source": [
    "Firstly, we need to prepare our in situ data in the correct SeaBASS/OCDB format. Lets start by defining our output path and output file."
   ]
  },
  {
   "cell_type": "code",
   "execution_count": null,
   "metadata": {},
   "outputs": [],
   "source": [
    "output_path = os.path.join(os.getcwd(), 'Cruise')\n",
    "os.makedirs(output_path, exist_ok=True)\n",
    "path_insitu = os.path.join(output_path, 'Cruise_OCDB.sb')"
   ]
  },
  {
   "cell_type": "markdown",
   "metadata": {},
   "source": [
    "Now we will write our data into the correct format, using the OCDB_template.sb template as a start point."
   ]
  },
  {
   "cell_type": "code",
   "execution_count": null,
   "metadata": {
    "editable": true,
    "slideshow": {
     "slide_type": ""
    },
    "tags": []
   },
   "outputs": [],
   "source": [
    "# make OCDB format output\n",
    "with open(os.path.join(os.getcwd(), \"templates\", \"OCDB_template.sb\")) as file:\n",
    "    lines = [line.rstrip() for line in file]\n",
    "\n",
    "for ii, cruise_time in zip(range(len(df)), cruise_times):\n",
    "    row = f\"{df.iloc[ii]['Station']}, {cruise_time.strftime('%Y%m%d')}, {cruise_time.strftime('%H:%M:00')}, {df.iloc[ii]['Latitude']}, {df.iloc[ii]['Longitude']}, {df.iloc[ii]['Chl a [µg/l]']}\"\n",
    "    lines.append(row)\n",
    "\n",
    "with open(path_insitu, 'w') as the_file:\n",
    "    for line in lines:\n",
    "        the_file.write(line+ '\\n')"
   ]
  },
  {
   "cell_type": "markdown",
   "metadata": {},
   "source": [
    "Lets take a quick look at a subset of the data...."
   ]
  },
  {
   "cell_type": "code",
   "execution_count": null,
   "metadata": {},
   "outputs": [],
   "source": [
    "with open(path_insitu) as file:\n",
    "    print('\\t'.join([\"Station\", \"\\tDate\", \"\\tTime\"]))\n",
    "    for line in file:\n",
    "        if not any(ext in line[0] for ext in ['/', '!']):\n",
    "            print('\\t'.join(line.rstrip().split(',')[0:3]))"
   ]
  },
  {
   "cell_type": "markdown",
   "metadata": {},
   "source": [
    "As before we will define a configuration file. However, there are some differences to before. We need to define all the steps in our analysis, including:\n",
    "* how we handle the *in situ* data\n",
    "* how we handle the satellite data\n",
    "* how we handle the generation of satellite minifiles\n",
    "* how we handle the construction of the extraction data base\n",
    "* how we handle the generation of the match-up database (MDB)\n",
    "\n",
    "Lets set up our configuration file to specify all the relevant steps in our desired workflow. For more information on each of these steps, you should see the relevant ThoMaS README sections for each step as well as the examples.\n",
    "\n",
    "We will make the following decisions;\n",
    "\n",
    "1. To get matchups between the in situ data set and S3A/OLCI standard FR Level 2 SatData:\n",
    "    * using the <a href=\"https://user.eumetsat.int/s3/eup-strapi-media/Recommendations_for_Sentinel_3_OLCI_Ocean_Colour_product_validations_in_comparison_with_in_situ_measurements_Matchup_Protocols_V8_B_e6c62ce677.pdf standard extraction protocol\" target=\"_blank\">EUMETSAT standard protocol</a> for extractions,\n",
    "    * an extraction window of 5x5,\n",
    "    * an insitu-satellite time difference threshold of 6 hours (3600 seconds * 6).\n",
    "1. To not retrieve ancillary data from ECMWF corresponding to the insitu data.\n",
    "1. To apply the Morel, Antoine and Gentili 2002 BRDF correction (even though we aren't using reflectance for comparisons in this example, it's good to do).\n",
    "1. To consider that we may several insitu measurements corresponding to one single SatData within the time window that I selected, but wish to keep only the closest in time with the satellite overpass.\n",
    "1. To store our satellite data in the ./Cruise/SatData directory, and all the other outputs (IDB, minifiles, EDB, MDB, etc.) to be stored in the ./Cruise directory\n",
    "\n",
    "<hr>\n"
   ]
  },
  {
   "cell_type": "code",
   "execution_count": null,
   "metadata": {},
   "outputs": [],
   "source": [
    "# Build your config_file.ini\n",
    "path_to_config_file = os.path.join(output_path, 'config_file.ini')\n",
    "config_params = {}\n",
    "\n",
    "# global\n",
    "config_params['global'] = {}\n",
    "config_params['global']['path_output'] = output_path\n",
    "config_params['global']['SetID'] = 'Cruise'\n",
    "\n",
    "# workflow\n",
    "config_params['workflow'] = {}\n",
    "config_params['workflow']['workflow'] = 'insitu, SatData, minifiles, EDB, MDB'\n",
    "#config_params['workflow']['workflow'] = 'MDB'\n",
    "\n",
    "# insitu\n",
    "config_params['insitu'] = {}\n",
    "config_params['insitu']['insitu_input'] = path_insitu\n",
    "config_params['insitu']['insitu_satelliteTimeToleranceSeconds'] = 3600*6\n",
    "config_params['insitu']['insitu_getAncillary'] = False \n",
    "config_params['insitu']['insitu_BRDF'] = 'M02'\n",
    "\n",
    "# satellite\n",
    "config_params['satellite'] = {}\n",
    "config_params['satellite']['satellite_path-to-SatData'] = os.path.join(output_path, 'SatData')\n",
    "config_params['satellite']['satellite_source'] = 'online'\n",
    "config_params['satellite']['satellite_collections'] = 'operational'\n",
    "config_params['satellite']['satellite_platforms'] = 'S3A'\n",
    "config_params['satellite']['satellite_resolutions'] = 'FR'\n",
    "config_params['satellite']['satellite_BRDF'] = 'M02'\n",
    "\n",
    "# minifiles\n",
    "config_params['minifiles'] = {}\n",
    "config_params['minifiles']['minifiles_winSize'] = 5\n",
    "\n",
    "# EDB\n",
    "config_params['EDB'] = {}\n",
    "config_params['EDB']['EDB_protocols_L2'] = 'EUMETSAT_standard_L2'\n",
    "config_params['EDB']['EDB_winSizes'] = 5\n",
    "\n",
    "# MDB\n",
    "config_params['MDB'] = {}\n",
    "config_params['MDB']['MDB_time-interpolation'] = 'insitu2satellite_NN'\n",
    "config_params['MDB']['MDB_stats_plots'] = True\n",
    "config_params['MDB']['MDB_stats_protocol'] = 'EUMETSAT_standard_L2'\n",
    "\n",
    "# Write config_params sections into config_file.ini\n",
    "write_config_file(path_to_config_file, config_params)"
   ]
  },
  {
   "cell_type": "markdown",
   "metadata": {},
   "source": [
    "Lets run this configuration (which will take some time)..."
   ]
  },
  {
   "cell_type": "code",
   "execution_count": null,
   "metadata": {},
   "outputs": [],
   "source": [
    "# Run ThoMaS and check all the outputs in the output directory\n",
    "ThoMaS(path_to_config_file)"
   ]
  },
  {
   "cell_type": "markdown",
   "metadata": {},
   "source": [
    "...and check our outputs. In this case, we have run a full analysis, so along side all of our data we have some summary plots. Lets view some..."
   ]
  },
  {
   "cell_type": "code",
   "execution_count": null,
   "metadata": {},
   "outputs": [],
   "source": [
    "images = glob.glob(os.path.join(output_path, \"MDB\", \"*.png\"))\n",
    "for image in sorted(images):\n",
    "    display(Image(image))"
   ]
  },
  {
   "cell_type": "markdown",
   "metadata": {},
   "source": [
    "<div class=\"alert alert-info\" role=\"alert\">\n",
    "\n",
    "## <a id='section6'></a>What next?\n",
    "[Back to top](#TOC-TOP)\n",
    "\n",
    "</div>"
   ]
  },
  {
   "cell_type": "markdown",
   "metadata": {},
   "source": [
    "Here, we have run ThoMaS to look at only chlorophyll-a, and only using OLCI. However, the package is designed to support full radiometric match-up validation routines for both hyperspectral and multispectral data sources, applying the necessary BRDF corrections as required. e.g. ThoMaS also supports both MODIS and PACE products.\n",
    "\n",
    "You can find many more example of configuration files in the ./ThoMaS/examples directory. Building on these, and the examples shown above you should be able to build a validation workflow that works for your circumstances, including to extract matchups for the current ESA OTC cruise! Get in touch if you'd like to work with us on this!\n",
    "\n",
    "If you have any questions about this notebook, the use/development of the ThoMaS package - please contact the <a href=mailto:ops@eumetsat.int target=\"_blank\">EUMETSAT helpdesk</a>. \n",
    "\n",
    "If this has peaked your interest - we will also have several trainings relating to ThoMaS, HyperCP (another package developed under the <a href=\"https://frm4soc2.eumetsat.int/\" target=\"_blank\">FRM4SOC-2 project</a>) and an advanced Ocean Colour training at EUMETSAT, associated with the upcoming IOCS conference in December 2025. Check out the <a href=\"https://iocs.ioccg.org/\" target=\"_blank\">IOCS conference website</a> and the <a href=\"https://trainingevents.eumetsat.int/ \" target=\"_blank\">EUMETSAT training calendar</a> for announcements shortly."
   ]
  },
  {
   "cell_type": "markdown",
   "metadata": {},
   "source": [
    "<hr>\n",
    "<a href=\"../../Index.ipynb\" target=\"_blank\"><< Index</a>\n",
    "<hr>\n",
    "<a href=\"https://gitlab.eumetsat.int/eumetlab/ocean\" target=\"_blank\">View on GitLab</a> | <a href=\"https://training.eumetsat.int/\" target=\"_blank\">EUMETSAT Training</a> | <a href=mailto:ops@eumetsat.int target=\"_blank\">Contact helpdesk for support </a> | <a href=mailto:training@eumetsat.int target=\"_blank\">Contact our training team to collaborate on and reuse this material</a></span></p>"
   ]
  }
 ],
 "metadata": {
  "author": "Ben Loveday, Hayley Evers-King, Juan Ignacio-Gossn",
  "content_type": "Software & code",
  "data_access": "Data Store",
  "deployment": {
   "eumetsat": {
    "binder": {
     "link": "https://mybinder.org/v2/git/https%3A%2F%2Fgitlab.eumetsat.int%2Feumetlab%2Foceans%2Focean-training%2Fapplications%2Focean-colour-applications/HEAD?labpath=2_OLCI_advanced%2FInsitu_comparison%2FOcean_colour_validation_cruise_tracks.ipynb",
     "service_contact": "ops@eumetsat.int",
     "service_provider": "EUMETSAT"
    },
    "git": {
     "link": "https://gitlab.eumetsat.int/eumetlab/oceans/ocean-training/applications/ocean-colour-applications/-/blob/main/2_methodological_approaches/Insitu_comparison/Ocean_colour_validation_cruise_tracks.ipynb",
     "service_contact": "ops@eumetsat.int",
     "service_provider": "EUMETSAT"
    }
   },
   "wekeo": {
    "git": {
     "link": "",
     "service_contact": "ops@eumetsat.int",
     "service_provider": "EUMETSAT"
    },
    "url": {
     "link": "",
     "service_contact": "ops@eumetsat.int",
     "service_provider": "EUMETSAT"
    }
   }
  },
  "description": "This Jupyter Notebook shows how to validate OLCI against cruise data using the ThoMaS toolkit.",
  "image": "../../img/thumbs/Ocean_colour_validation_cruise_tracks_thumb.png",
  "kernelspec": {
   "display_name": "Python 3 (ipykernel)",
   "language": "python",
   "name": "python3"
  },
  "language_info": {
   "codemirror_mode": {
    "name": "ipython",
    "version": 3
   },
   "file_extension": ".py",
   "mimetype": "text/x-python",
   "name": "python",
   "nbconvert_exporter": "python",
   "pygments_lexer": "ipython3",
   "version": "3.10.17"
  },
  "license": "MIT",
  "metadata_schema_version": "2.0.0",
  "originator": "EUMETSAT",
  "tags": {
   "data_provider": "EUMETSAT",
   "orbit": "LEO",
   "satellite": "Sentinel-3",
   "sensor": "OLCI (Sentinel-3)",
   "service": "Ocean colour",
   "subtheme": [
    "Ocean biogeochemistry",
    "Water quality"
   ],
   "theme": "Marine",
   "variable": "Water leaving reflectance"
  },
  "title": "Validating OLCI against cruise data using the ThoMaS match-up toolkit",
  "version": "2.0.0",
  "version_date": "2025-04-01"
 },
 "nbformat": 4,
 "nbformat_minor": 4
}
