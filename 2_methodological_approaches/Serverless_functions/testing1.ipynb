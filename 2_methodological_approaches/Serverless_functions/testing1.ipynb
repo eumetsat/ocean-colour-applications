{
 "cells": [
  {
   "cell_type": "code",
   "execution_count": 1,
   "id": "a8da0ece-1258-4495-a0be-cd407f9c2032",
   "metadata": {},
   "outputs": [],
   "source": [
    "import xcube\n",
    "import xarray as xr\n",
    "import hda\n",
    "import os\n",
    "from shapely import geometry\n",
    "import zipfile\n",
    "\n",
    "from eocanvas import Credentials\n",
    "from eocanvas.api import Input, Config, ConfigOption\n",
    "from eocanvas.processes import SnapProcess\n",
    "from eocanvas.snap.graph import Graph\n",
    "from eocanvas.snap import Operator\n",
    "from eocanvas.snap.binning import aggregators, BinningVariable, Aggregators, BinningVariables"
   ]
  },
  {
   "cell_type": "markdown",
   "id": "d848e7d0-9a9b-4eb0-8005-3bd7fbb47899",
   "metadata": {},
   "source": [
    "1. test submission of SNAP graphs to eocanvas\n",
    "2. scale them up and build a cube\n",
    "3. access the cube using xcube remotely\n",
    "4. make targetted data extractions for time series analysis "
   ]
  },
  {
   "cell_type": "markdown",
   "id": "cd2132f8-2276-4ec4-a2dd-000f035d38ec",
   "metadata": {},
   "source": [
    "# Part 1: find the source data"
   ]
  },
  {
   "cell_type": "code",
   "execution_count": 2,
   "id": "7e07a6e4-97da-4085-ba2a-76f46134638a",
   "metadata": {},
   "outputs": [],
   "source": [
    "# Set source data: L1B, L2\n",
    "data_sources = {\n",
    "               \"L1B\" : {\"dataset_id\" : \"EO:EUM:DAT:SENTINEL-3:OL_1_EFR___\"},\n",
    "               \"L2\"  : {\"dataset_id\" : \"EO:EUM:DAT:SENTINEL-3:OL_2_WFR___\"},\n",
    "               \"L3\"  : {\"dataset_id\" : \"cmems_obs-oc_bal_bgc-plankton_my_l3-multi-1km_P1D\", \"variables\" : \"CHL\"}\n",
    "               }\n",
    "\n",
    "dtstart = \"2022-07-03T00:00:00.000Z\"\n",
    "dtend = \"2022-07-04T23:59:00.000Z\"\n",
    "sat = \"Sentinel-3B\"\n",
    "bbox = [17, 55.0, 20.0, 60.0] # W, S, E, N\n",
    "timeliness = \"NT\"\n",
    "\n",
    "download_dir = os.path.join(os.getcwd(), \"results\")"
   ]
  },
  {
   "cell_type": "code",
   "execution_count": 3,
   "id": "8db281b0-c472-41d5-a07c-30f61a49de4d",
   "metadata": {},
   "outputs": [
    {
     "name": "stdout",
     "output_type": "stream",
     "text": [
      "POLYGON ((17 55, 20 55, 20 60, 17 60, 17 55))\n"
     ]
    }
   ],
   "source": [
    "# Set ROI\n",
    "polygon = [[bbox[0], bbox[1]], [bbox[2], bbox[1]], [bbox[2], bbox[3]], [bbox[0], bbox[3]], [bbox[0], bbox[1]]]\n",
    "WKT = geometry.Polygon([[p[0], p[1]] for p in polygon])\n",
    "print(WKT)"
   ]
  },
  {
   "cell_type": "code",
   "execution_count": 4,
   "id": "89ea4947-6426-43ab-9b0a-9bcfeed261d8",
   "metadata": {},
   "outputs": [],
   "source": [
    "# set eocanvas graph templates\n",
    "graphs = {\n",
    "         \"L1B\" : os.path.join(os.getcwd(), \"SNAP_graphs\", \"SNAP_GPT_graph_OLCI_L1B_subset_MphChl_Idepix_reproject_eocanvas_template.xml\"),\n",
    "         \"L2\"  : os.path.join(os.getcwd(), \"SNAP_graphs\", \"SNAP_GPT_graph_OLCI_L2_subset_flag_reproject_chl_eocanvas_template.xml\")\n",
    "         }"
   ]
  },
  {
   "cell_type": "code",
   "execution_count": 5,
   "id": "0fd2e5d9-f85b-40e3-a3ab-c6697834c2c9",
   "metadata": {},
   "outputs": [],
   "source": [
    "# find HDA URLs\n",
    "for data_source in data_sources:\n",
    "    if \":EUM:\" not in data_sources[data_source][\"dataset_id\"]:\n",
    "        continue\n",
    "    # need to check on auth here\n",
    "    c = hda.Client()\n",
    "    query = {\n",
    "            \"dataset_id\": data_sources[data_source][\"dataset_id\"],\n",
    "            \"dtstart\"   : dtstart,\n",
    "            \"dtend\"     : dtend,\n",
    "            \"timeliness\": timeliness,\n",
    "            \"bbox\"      : bbox,\n",
    "            \"sat\"       : sat\n",
    "            }\n",
    "    \n",
    "    results = c.search(query)\n",
    "\n",
    "    data_sources[data_source][\"urls\"] = results.get_download_urls()\n",
    "    data_sources[data_source][\"product_names\"] = [results.results[i][\"id\"] for i in range(len(results))]    \n",
    "    data_sources[data_source][\"graph\"] = graphs[data_source]"
   ]
  },
  {
   "cell_type": "raw",
   "id": "b2e1117d-d667-40f5-a078-c5e6bff356ec",
   "metadata": {
    "scrolled": true
   },
   "source": [
    "# read graph example\n",
    "graph = Graph.from_uri(data_sources[\"L1B\"][\"graph\"])\n",
    "graph.nice_view()"
   ]
  },
  {
   "cell_type": "raw",
   "id": "e5e1b738-591c-4c33-8797-a0406c5600b4",
   "metadata": {},
   "source": [
    "# define a subset node\n",
    "subset = Operator(\"Subset\")\n",
    "subset.geoRegion = str(WKT)\n",
    "subset.fullSwath = \"false\"\n",
    "subset.copyMetadata = \"false\"\n",
    "print(subset)"
   ]
  },
  {
   "cell_type": "code",
   "execution_count": null,
   "id": "974d1d2f-41ff-4e80-9fae-cd93ea3c236c",
   "metadata": {},
   "outputs": [],
   "source": [
    "binner = Operator('Binning')\n",
    "binner.sourceProductPaths = '$img'\n",
    "binner.sourceProductFormat = 'Sen3'\n",
    "binner.region = str(WKT)\n",
    "binner.timeFilterMethod = None\n",
    "binner.numRows = 50094\n",
    "binner.superSampling = 4\n",
    "binner.maxDistanceOnEarth = -1\n",
    "binner.maskExpr = True\n",
    "binner.metadataAggregatorName = \"NAME\"\n",
    "binner.sourceProductPaths = '$img1'\n",
    "binner.sourceProductFormat = 'Sen3'\n",
    "binner.outputFile = '$output'\n",
    "binner.outputFormat = \"NetCDF4-BEAM\"\n",
    "\n",
    "b1 = BinningVariable(name=\"Filtered_CHL_NN\", expression=\"CHL_NN\", valid_expression=\"if WQSF_lsb_LAND or WQSF_lsb_CLOUD or WQSF_lsb_CLOUD_AMBIGUOUS or WQSF_lsb_CLOUD_MARGIN or WQSF_lsb_INVALID or WQSF_lsb_COSMETIC or WQSF_lsb_SATURATED or WQSF_lsb_SUSPECT or WQSF_lsb_HISOLZEN or WQSF_lsb_HIGHGLINT or WQSF_lsb_SNOW_ICE or WQSF_lsb_OCNN_FAIL then False else True\")\n",
    "b2 = BinningVariable(name=\"Filtered_CHL_OC4ME\", expression=\"CHL_OC4ME\", valid_expression=\"if WQSF_lsb_LAND or WQSF_lsb_CLOUD or WQSF_lsb_CLOUD_AMBIGUOUS or WQSF_lsb_CLOUD_MARGIN or WQSF_lsb_INVALID or WQSF_lsb_COSMETIC or WQSF_lsb_SATURATED or WQSF_lsb_SUSPECT or WQSF_lsb_HISOLZEN or WQSF_lsb_HIGHGLINT or WQSF_lsb_SNOW_ICE or WQSF_lsb_AC_FAIL or WQSF_lsb_WHITECAPS or WQSF_lsb_ADJAC or WQSF_msb_RWNEG_O2 or WQSF_msb_RWNEG_O3 or WQSF_msb_RWNEG_O4 or WQSF_msb_RWNEG_O5 or WQSF_msb_RWNEG_O6 or WQSF_msb_RWNEG_O7 or WQSF_msb_RWNEG_O8 or WQSF_lsb_OC4ME_FAIL then False else True\")\n",
    "binner.variableConfigs = BinningVariables([b1, b2])\n",
    "\n",
    "ag1 = aggregators.AggregatorAvg(varName='Filtered_CHL_NN', targetName=\"Filtered_CHL_NN\", outputCounts='false', outputSums='false', weightCoeff=1.0)\n",
    "ag2 = aggregators.AggregatorAvg(varName='Filtered_CHL_OC4ME', targetName=\"Filtered_CHL_OC4ME\", outputCounts='false', outputSums='false', weightCoeff=1.0)\n",
    "binner.aggregatorConfigs = Aggregators([ag1, ag2])\n",
    "\n",
    "graph = Graph()\n",
    "graph.add_node(operator=binner,\n",
    "           node_id='L3binner')"
   ]
  },
  {
   "cell_type": "code",
   "execution_count": null,
   "id": "e4f8d9e2-611c-4145-bcc8-c681347e2cd5",
   "metadata": {},
   "outputs": [],
   "source": [
    "# write it back to the dictionary\n",
    "graph = Graph.from_uri(\"/Users/benloveday/Desktop/test3.xml\")\n",
    "data_sources[\"L2\"][\"graph\"] = graph"
   ]
  },
  {
   "cell_type": "raw",
   "id": "eb968892-7865-40df-8991-6e3be5095b57",
   "metadata": {
    "scrolled": true
   },
   "source": [
    "# add it to the graph\n",
    "graph.add_node(subset, \"Subset\", \"Read\")\n",
    "#graph.nice_view()"
   ]
  },
  {
   "cell_type": "code",
   "execution_count": null,
   "id": "f4bc6509-32b9-4ff8-ac77-275d563ef09f",
   "metadata": {},
   "outputs": [],
   "source": [
    "# write it back to the dictionary\n",
    "data_sources[\"L1B\"][\"graph\"] = graph"
   ]
  },
  {
   "cell_type": "code",
   "execution_count": 6,
   "id": "6023d079-7b06-47bd-9b3f-21001a881cc5",
   "metadata": {},
   "outputs": [],
   "source": [
    "# as above for L2\n",
    "graph = Graph.from_uri(data_sources[\"L2\"][\"graph\"])\n",
    "subset = Operator(\"Subset\")\n",
    "subset.geoRegion = str(WKT)\n",
    "subset.fullSwath = \"false\"\n",
    "subset.copyMetadata = \"false\"\n",
    "subset.sourceBands = \"CHL_NN,CHL_OC4ME,latitude,longitude,WQSF_lsb,WQSF_msb\"\n",
    "\n",
    "# add it to the graph\n",
    "graph.add_node(subset, \"Subset\", \"Read\")\n",
    "\n",
    "# write it back to the dictionary\n",
    "data_sources[\"L2\"][\"graph\"] = graph"
   ]
  },
  {
   "cell_type": "code",
   "execution_count": 7,
   "id": "552982d6-f90c-4f9d-b16d-444e7927c47a",
   "metadata": {},
   "outputs": [
    {
     "name": "stdout",
     "output_type": "stream",
     "text": [
      "Job: 80a050f4-8ff2-56f5-9fb6-d885387a792a - Status: accepted at 2025-04-03T10:21:34.981742\n",
      "Job: 80a050f4-8ff2-56f5-9fb6-d885387a792a - Status: running at 2025-04-03T10:21:45.195487\n",
      "Job: 80a050f4-8ff2-56f5-9fb6-d885387a792a - Status: running at 2025-04-03T10:21:56.418153\n",
      "Job: 80a050f4-8ff2-56f5-9fb6-d885387a792a - Status: running at 2025-04-03T10:22:08.711774\n",
      "Job: 80a050f4-8ff2-56f5-9fb6-d885387a792a - Status: running at 2025-04-03T10:22:22.222091\n",
      "Job: 80a050f4-8ff2-56f5-9fb6-d885387a792a - Status: running at 2025-04-03T10:22:37.110576\n",
      "Job: 80a050f4-8ff2-56f5-9fb6-d885387a792a - Status: running at 2025-04-03T10:22:53.427620\n",
      "Job: 80a050f4-8ff2-56f5-9fb6-d885387a792a - Status: running at 2025-04-03T10:23:11.347086\n",
      "Job: 80a050f4-8ff2-56f5-9fb6-d885387a792a - Status: running at 2025-04-03T10:23:31.039154\n"
     ]
    },
    {
     "ename": "NameError",
     "evalue": "name 'adf' is not defined",
     "output_type": "error",
     "traceback": [
      "\u001b[0;31m---------------------------------------------------------------------------\u001b[0m",
      "\u001b[0;31mNameError\u001b[0m                                 Traceback (most recent call last)",
      "Cell \u001b[0;32mIn[7], line 15\u001b[0m\n\u001b[1;32m     13\u001b[0m jobs\u001b[38;5;241m.\u001b[39mappend(this_job)\n\u001b[1;32m     14\u001b[0m process\u001b[38;5;241m.\u001b[39mrun(this_job, download\u001b[38;5;241m=\u001b[39m\u001b[38;5;28;01mFalse\u001b[39;00m)\n\u001b[0;32m---> 15\u001b[0m \u001b[43madf\u001b[49m\n\u001b[1;32m     16\u001b[0m \u001b[38;5;66;03m# rename and unzip output and clear up\u001b[39;00m\n\u001b[1;32m     17\u001b[0m downloaded_file \u001b[38;5;241m=\u001b[39m os\u001b[38;5;241m.\u001b[39mpath\u001b[38;5;241m.\u001b[39mjoin(download_dir, os\u001b[38;5;241m.\u001b[39mpath\u001b[38;5;241m.\u001b[39mbasename(this_job\u001b[38;5;241m.\u001b[39mresults[\u001b[38;5;241m0\u001b[39m]\u001b[38;5;241m.\u001b[39mtitle))\n",
      "\u001b[0;31mNameError\u001b[0m: name 'adf' is not defined"
     ]
    }
   ],
   "source": [
    "jobs = []\n",
    "for data_source in data_sources:\n",
    "    if \"WFR\" not in data_sources[data_source][\"dataset_id\"]:\n",
    "        continue\n",
    "\n",
    "    for url, product_name in zip(data_sources[data_source][\"urls\"], data_sources[data_source][\"product_names\"]):\n",
    "        inputs = Input(key=\"img1\", url=url)\n",
    "        config = Config(key=\"img1\", options=ConfigOption(uncompress=True, sub_path=\"xfdumanifest.xml\"))\n",
    "        process = SnapProcess(snap_graph=data_sources[data_source][\"graph\"], eo_config=config, eo_input=inputs)\n",
    "        process.prepare_inputs()\n",
    "    \n",
    "        this_job = process.submit()\n",
    "        jobs.append(this_job)\n",
    "        process.run(this_job, download=False)\n",
    "        adf\n",
    "        # rename and unzip output and clear up\n",
    "        downloaded_file = os.path.join(download_dir, os.path.basename(this_job.results[0].title))\n",
    "        output_file = os.path.join(download_dir, product_name.replace(\".SEN3\", \"_eocanvas_processed.SEN3.zip\"))\n",
    "        os.rename(downloaded_file, output_file)\n",
    "\n",
    "        with zipfile.ZipFile(output_file, 'r') as zip_ref:\n",
    "            zip_ref.extractall(output_file.replace(\".zip\", \"\"))\n",
    "        os.remove(output_file)"
   ]
  },
  {
   "cell_type": "code",
   "execution_count": 8,
   "id": "a12e49df-4f05-4e46-af39-e3832a50da8a",
   "metadata": {},
   "outputs": [
    {
     "data": {
      "text/plain": [
       "'https://gateway.prod.wekeo2.eu/serverless/download/result/9481'"
      ]
     },
     "execution_count": 8,
     "metadata": {},
     "output_type": "execute_result"
    }
   ],
   "source": [
    "this_job.results[0].full_url"
   ]
  },
  {
   "cell_type": "code",
   "execution_count": 10,
   "id": "cc63c833-31b4-4e52-adfc-16770d93a1d1",
   "metadata": {},
   "outputs": [
    {
     "data": {
      "text/plain": [
       "[Result(api=<eocanvas.api.API object at 0x1644b50c0>, href='/download/result/9481', title='wks3:///80a050f4-8ff2-56f5-9fb6-d885387a792a/output/c6aca9e0-1064-11f0-a168-6e395a4d0343.znap.zip', rel='enclosure')]"
      ]
     },
     "execution_count": 10,
     "metadata": {},
     "output_type": "execute_result"
    }
   ],
   "source": [
    "this_job.results"
   ]
  },
  {
   "cell_type": "code",
   "execution_count": null,
   "id": "37162970-a088-4246-9afa-c1e5071052c9",
   "metadata": {},
   "outputs": [],
   "source": [
    "import requests\n",
    "\n",
    "response = requests.get(this_job.results[0].full_url, stream=True)"
   ]
  },
  {
   "cell_type": "code",
   "execution_count": 9,
   "id": "0545b965-0250-4229-9e6d-69b8ff830d9f",
   "metadata": {},
   "outputs": [
    {
     "data": {
      "text/plain": [
       "[LogEntry(timestamp=datetime.datetime(2025, 4, 3, 8, 21, 56, 345054, tzinfo=datetime.timezone.utc), message='time=\"2025-04-03T08:21:56.344Z\" level=info msg=\"Starting Workflow Executor\" version=v3.5.7'),\n",
       " LogEntry(timestamp=datetime.datetime(2025, 4, 3, 8, 21, 56, 349547, tzinfo=datetime.timezone.utc), message='time=\"2025-04-03T08:21:56.349Z\" level=info msg=\"Using executor retry strategy\" Duration=1s Factor=1.6 Jitter=0.5 Steps=5'),\n",
       " LogEntry(timestamp=datetime.datetime(2025, 4, 3, 8, 21, 56, 349563, tzinfo=datetime.timezone.utc), message='time=\"2025-04-03T08:21:56.349Z\" level=info msg=\"Executor initialized\" deadline=\"0001-01-01 00:00:00 +0000 UTC\" includeScriptOutput=false namespace=ws-serverless podName=workflow-bx75z-stage-in-131920003 templateName=stage-in version=\"&Version{Version:v3.5.7,BuildDate:2024-05-27T06:18:59Z,GitCommit:503eef1357ebc9facc3f463708031441072ef7c2,GitTag:v3.5.7,GitTreeState:clean,GoVersion:go1.21.10,Compiler:gc,Platform:linux/amd64,}\"'),\n",
       " LogEntry(timestamp=datetime.datetime(2025, 4, 3, 8, 21, 56, 502397, tzinfo=datetime.timezone.utc), message='time=\"2025-04-03T08:21:56.502Z\" level=info msg=\"Start loading input artifacts...\"'),\n",
       " LogEntry(timestamp=datetime.datetime(2025, 4, 3, 8, 21, 56, 502416, tzinfo=datetime.timezone.utc), message='time=\"2025-04-03T08:21:56.502Z\" level=info msg=\"Alloc=7682 TotalAlloc=13491 Sys=25701 NumGC=4 Goroutines=4\"'),\n",
       " LogEntry(timestamp=datetime.datetime(2025, 4, 3, 8, 21, 58, 493877, tzinfo=datetime.timezone.utc), message='SLF4J(W): Class path contains multiple SLF4J providers.'),\n",
       " LogEntry(timestamp=datetime.datetime(2025, 4, 3, 8, 21, 58, 493907, tzinfo=datetime.timezone.utc), message='SLF4J(W): Found provider [ch.qos.logback.classic.spi.LogbackServiceProvider@3567135c]'),\n",
       " LogEntry(timestamp=datetime.datetime(2025, 4, 3, 8, 21, 58, 493919, tzinfo=datetime.timezone.utc), message='SLF4J(W): Found provider [org.slf4j.reload4j.Reload4jServiceProvider@327471b5]'),\n",
       " LogEntry(timestamp=datetime.datetime(2025, 4, 3, 8, 21, 58, 493927, tzinfo=datetime.timezone.utc), message='SLF4J(W): See https://www.slf4j.org/codes.html#multiple_bindings for an explanation.'),\n",
       " LogEntry(timestamp=datetime.datetime(2025, 4, 3, 8, 21, 58, 578240, tzinfo=datetime.timezone.utc), message='SLF4J(I): Actual provider is of type [ch.qos.logback.classic.spi.LogbackServiceProvider@3567135c]'),\n",
       " LogEntry(timestamp=datetime.datetime(2025, 4, 3, 8, 21, 58, 617434, tzinfo=datetime.timezone.utc), message='Standard Commons Logging discovery in action with spring-jcl: please remove commons-logging.jar from classpath in order to avoid potential conflicts'),\n",
       " LogEntry(timestamp=datetime.datetime(2025, 4, 3, 8, 21, 59, 159550, tzinfo=datetime.timezone.utc), message=''),\n",
       " LogEntry(timestamp=datetime.datetime(2025, 4, 3, 8, 21, 59, 159572, tzinfo=datetime.timezone.utc), message='  .   ____          _            __ _ _'),\n",
       " LogEntry(timestamp=datetime.datetime(2025, 4, 3, 8, 21, 59, 159576, tzinfo=datetime.timezone.utc), message=\" /\\\\\\\\ / ___'_ __ _ _(_)_ __  __ _ \\\\ \\\\ \\\\ \\\\\"),\n",
       " LogEntry(timestamp=datetime.datetime(2025, 4, 3, 8, 21, 59, 159580, tzinfo=datetime.timezone.utc), message=\"( ( )\\\\___ | '_ | '_| | '_ \\\\/ _` | \\\\ \\\\ \\\\ \\\\\"),\n",
       " LogEntry(timestamp=datetime.datetime(2025, 4, 3, 8, 21, 59, 159583, tzinfo=datetime.timezone.utc), message=' \\\\\\\\/  ___)| |_)| | | | | || (_| |  ) ) ) )'),\n",
       " LogEntry(timestamp=datetime.datetime(2025, 4, 3, 8, 21, 59, 159587, tzinfo=datetime.timezone.utc), message=\"  '  |____| .__|_| |_|_| |_\\\\__, | / / / /\"),\n",
       " LogEntry(timestamp=datetime.datetime(2025, 4, 3, 8, 21, 59, 159591, tzinfo=datetime.timezone.utc), message=' =========|_|==============|___/=/_/_/_/'),\n",
       " LogEntry(timestamp=datetime.datetime(2025, 4, 3, 8, 21, 59, 159612, tzinfo=datetime.timezone.utc), message=''),\n",
       " LogEntry(timestamp=datetime.datetime(2025, 4, 3, 8, 21, 59, 160524, tzinfo=datetime.timezone.utc), message=' :: Spring Boot ::                (v3.3.1)'),\n",
       " LogEntry(timestamp=datetime.datetime(2025, 4, 3, 8, 21, 59, 160535, tzinfo=datetime.timezone.utc), message=''),\n",
       " LogEntry(timestamp=datetime.datetime(2025, 4, 3, 8, 21, 59, 338508, tzinfo=datetime.timezone.utc), message='2025-04-03T08:21:59.330Z  INFO 24 --- [stagein] [           main] o.e.w.s.stagein.StageInApplication       : Starting StageInApplication v1.3.7 using Java 17.0.13 with PID 24 (/app.jar started by root in /)'),\n",
       " LogEntry(timestamp=datetime.datetime(2025, 4, 3, 8, 21, 59, 340083, tzinfo=datetime.timezone.utc), message='2025-04-03T08:21:59.339Z  INFO 24 --- [stagein] [           main] o.e.w.s.stagein.StageInApplication       : No active profile set, falling back to 1 default profile: \"default\"'),\n",
       " LogEntry(timestamp=datetime.datetime(2025, 4, 3, 8, 22, 0, 822651, tzinfo=datetime.timezone.utc), message='2025-04-03T08:22:00.822Z  INFO 24 --- [stagein] [           main] o.s.b.w.embedded.tomcat.TomcatWebServer  : Tomcat initialized with port 8080 (http)'),\n",
       " LogEntry(timestamp=datetime.datetime(2025, 4, 3, 8, 22, 0, 836782, tzinfo=datetime.timezone.utc), message='2025-04-03T08:22:00.836Z  INFO 24 --- [stagein] [           main] o.apache.catalina.core.StandardService   : Starting service [Tomcat]'),\n",
       " LogEntry(timestamp=datetime.datetime(2025, 4, 3, 8, 22, 0, 836810, tzinfo=datetime.timezone.utc), message='2025-04-03T08:22:00.836Z  INFO 24 --- [stagein] [           main] o.apache.catalina.core.StandardEngine    : Starting Servlet engine: [Apache Tomcat/10.1.25]'),\n",
       " LogEntry(timestamp=datetime.datetime(2025, 4, 3, 8, 22, 0, 894825, tzinfo=datetime.timezone.utc), message='2025-04-03T08:22:00.894Z  INFO 24 --- [stagein] [           main] o.a.c.c.C.[Tomcat].[localhost].[/]       : Initializing Spring embedded WebApplicationContext'),\n",
       " LogEntry(timestamp=datetime.datetime(2025, 4, 3, 8, 22, 0, 896387, tzinfo=datetime.timezone.utc), message='2025-04-03T08:22:00.896Z  INFO 24 --- [stagein] [           main] w.s.c.ServletWebServerApplicationContext : Root WebApplicationContext: initialization completed in 1349 ms'),\n",
       " LogEntry(timestamp=datetime.datetime(2025, 4, 3, 8, 22, 0, 899486, tzinfo=datetime.timezone.utc), message='Standard Commons Logging discovery in action with spring-jcl: please remove commons-logging.jar from classpath in order to avoid potential conflicts'),\n",
       " LogEntry(timestamp=datetime.datetime(2025, 4, 3, 8, 22, 1, 883652, tzinfo=datetime.timezone.utc), message='2025-04-03T08:22:01.883Z  WARN 24 --- [stagein] [           main] .s.s.UserDetailsServiceAutoConfiguration : '),\n",
       " LogEntry(timestamp=datetime.datetime(2025, 4, 3, 8, 22, 1, 883675, tzinfo=datetime.timezone.utc), message=''),\n",
       " LogEntry(timestamp=datetime.datetime(2025, 4, 3, 8, 22, 1, 883684, tzinfo=datetime.timezone.utc), message='Using generated security password: 31119eeb-c34d-4298-b041-62349aae9beb'),\n",
       " LogEntry(timestamp=datetime.datetime(2025, 4, 3, 8, 22, 1, 883691, tzinfo=datetime.timezone.utc), message=''),\n",
       " LogEntry(timestamp=datetime.datetime(2025, 4, 3, 8, 22, 1, 883714, tzinfo=datetime.timezone.utc), message='This generated password is for development use only. Your security configuration must be updated before running your application in production.'),\n",
       " LogEntry(timestamp=datetime.datetime(2025, 4, 3, 8, 22, 1, 883720, tzinfo=datetime.timezone.utc), message=''),\n",
       " LogEntry(timestamp=datetime.datetime(2025, 4, 3, 8, 22, 1, 905469, tzinfo=datetime.timezone.utc), message='2025-04-03T08:22:01.905Z  INFO 24 --- [stagein] [           main] r$InitializeUserDetailsManagerConfigurer : Global AuthenticationManager configured with UserDetailsService bean with name inMemoryUserDetailsManager'),\n",
       " LogEntry(timestamp=datetime.datetime(2025, 4, 3, 8, 22, 2, 70051, tzinfo=datetime.timezone.utc), message=\"2025-04-03T08:22:02.069Z  INFO 24 --- [stagein] [           main] o.s.b.w.embedded.tomcat.TomcatWebServer  : Tomcat started on port 8080 (http) with context path '/'\"),\n",
       " LogEntry(timestamp=datetime.datetime(2025, 4, 3, 8, 22, 2, 88836, tzinfo=datetime.timezone.utc), message='2025-04-03T08:22:02.088Z  INFO 24 --- [stagein] [           main] o.e.w.s.stagein.StageInApplication       : Started StageInApplication in 3.302 seconds (process running for 3.923)'),\n",
       " LogEntry(timestamp=datetime.datetime(2025, 4, 3, 8, 22, 2, 113239, tzinfo=datetime.timezone.utc), message='2025-04-03T08:22:02.112Z  INFO 24 --- [stagein] [           main] o.e.w.s.logger.MetricsLogger             : [METRICS][80a050f4-8ff2-56f5-9fb6-d885387a792a][START] {\"phase\":\"STAGE-IN\",\"user\":\"benloveday\",\"timestamp\":\"2025-04-03T08:22:02.093736381\"}'),\n",
       " LogEntry(timestamp=datetime.datetime(2025, 4, 3, 8, 22, 2, 216768, tzinfo=datetime.timezone.utc), message='2025-04-03T08:22:02.215Z  INFO 24 --- [stagein] [           main] o.e.w.s.s.downloader.EnvironmentService  : Created job configuration file for job 80a050f4-8ff2-56f5-9fb6-d885387a792a in location: /home/worker/workDir/function.properties'),\n",
       " LogEntry(timestamp=datetime.datetime(2025, 4, 3, 8, 22, 2, 217496, tzinfo=datetime.timezone.utc), message='2025-04-03T08:22:02.217Z  INFO 24 --- [stagein] [           main] o.e.w.s.s.d.DownloaderServiceImpl        : InputDir /home/worker/workDir/inDir and inputs to Download {eo_input=[{\"img1\": \"https://gateway.prod.wekeo2.eu/hda-broker/api/v1/dataaccess/download/67ee4503997593bdeed38d4d\"}]} '),\n",
       " LogEntry(timestamp=datetime.datetime(2025, 4, 3, 8, 22, 2, 232539, tzinfo=datetime.timezone.utc), message='2025-04-03T08:22:02.232Z  INFO 24 --- [stagein] [           main] o.e.w.s.s.d.wekeo.WekEODownloader        : Requesting download of product at URI https://gateway.prod.wekeo2.eu/hda-broker/api/v1/dataaccess/download/67ee4503997593bdeed38d4d to /home/worker/workDir/tmp/dl12522134573738364832'),\n",
       " LogEntry(timestamp=datetime.datetime(2025, 4, 3, 8, 22, 2, 232618, tzinfo=datetime.timezone.utc), message='2025-04-03T08:22:02.232Z  INFO 24 --- [stagein] [           main] o.e.w.s.s.d.wekeo.WekEODownloader        : Requested download of product at URI https://gateway.prod.wekeo2.eu/hda-broker/api/v1/dataaccess/download/67ee4503997593bdeed38d4d download ID is 67ee4503997593bdeed38d4d'),\n",
       " LogEntry(timestamp=datetime.datetime(2025, 4, 3, 8, 22, 4, 139276, tzinfo=datetime.timezone.utc), message='2025-04-03T08:22:04.138Z  INFO 24 --- [stagein] [           main] o.e.w.s.s.d.wekeo.WekEODownloader        : Downloading https://gateway.prod.wekeo2.eu/hda-broker/api/v1/dataaccess/download/67ee4503997593bdeed38d4d in /home/worker/workDir/tmp/dl12522134573738364832'),\n",
       " LogEntry(timestamp=datetime.datetime(2025, 4, 3, 8, 22, 7, 606485, tzinfo=datetime.timezone.utc), message='2025-04-03T08:22:07.606Z  INFO 24 --- [stagein] [           main] o.e.w.s.s.d.wekeo.WekEODownloader        : Successfully downloaded product from URL https://gateway.prod.wekeo2.eu/hda-broker/api/v1/dataaccess/download/67ee4503997593bdeed38d4d to /home/worker/workDir/tmp/dl12522134573738364832/S3B_OL_2_WFR____20220704T090449_20220704T090749_20220705T212437_0179_067_378_1980_MAR_O_NT_003.SEN3.zip (252880845 bytes)'),\n",
       " LogEntry(timestamp=datetime.datetime(2025, 4, 3, 8, 22, 7, 610098, tzinfo=datetime.timezone.utc), message='2025-04-03T08:22:07.609Z  INFO 24 --- [stagein] [           main] o.e.w.s.logger.MetricsLogger             : [METRICS][80a050f4-8ff2-56f5-9fb6-d885387a792a][FILE] {\"phase\":\"STAGE-IN\",\"file\":\"/home/worker/workDir/inDir/eo_input/img1/S3B_OL_2_WFR____20220704T090449_20220704T090749_20220705T212437_0179_067_378_1980_MAR_O_NT_003.SEN3.zip\",\"size\":252880845 }'),\n",
       " LogEntry(timestamp=datetime.datetime(2025, 4, 3, 8, 22, 7, 612457, tzinfo=datetime.timezone.utc), message='2025-04-03T08:22:07.611Z  INFO 24 --- [stagein] [           main] o.e.w.s.logger.MetricsLogger             : [METRICS][80a050f4-8ff2-56f5-9fb6-d885387a792a][END] {\"phase\":\"STAGE-IN\",\"user\":\"benloveday\",\"timestamp\":\"2025-04-03T08:22:02.093736381\",\"duration\":\"5\"}'),\n",
       " LogEntry(timestamp=datetime.datetime(2025, 4, 3, 8, 22, 7, 612660, tzinfo=datetime.timezone.utc), message='2025-04-03T08:22:07.612Z  INFO 24 --- [stagein] [           main] o.e.w.s.stagein.StageInApplication       : shutdown...'),\n",
       " LogEntry(timestamp=datetime.datetime(2025, 4, 3, 8, 22, 7, 994793, tzinfo=datetime.timezone.utc), message='time=\"2025-04-03T08:22:07.994Z\" level=debug msg=\"ignore signal child exited\" argo=true'),\n",
       " LogEntry(timestamp=datetime.datetime(2025, 4, 3, 8, 22, 7, 994826, tzinfo=datetime.timezone.utc), message='time=\"2025-04-03T08:22:07.994Z\" level=debug msg=\"ignore signal urgent I/O condition\" argo=true'),\n",
       " LogEntry(timestamp=datetime.datetime(2025, 4, 3, 8, 22, 8, 164612, tzinfo=datetime.timezone.utc), message='time=\"2025-04-03T08:22:08.164Z\" level=info msg=\"sub-process exited\" argo=true error=\"<nil>\"'),\n",
       " LogEntry(timestamp=datetime.datetime(2025, 4, 3, 8, 22, 20, 931829, tzinfo=datetime.timezone.utc), message='time=\"2025-04-03T08:22:20.931Z\" level=info msg=\"Starting Workflow Executor\" version=v3.5.7'),\n",
       " LogEntry(timestamp=datetime.datetime(2025, 4, 3, 8, 22, 20, 935451, tzinfo=datetime.timezone.utc), message='time=\"2025-04-03T08:22:20.935Z\" level=info msg=\"Using executor retry strategy\" Duration=1s Factor=1.6 Jitter=0.5 Steps=5'),\n",
       " LogEntry(timestamp=datetime.datetime(2025, 4, 3, 8, 22, 20, 935466, tzinfo=datetime.timezone.utc), message='time=\"2025-04-03T08:22:20.935Z\" level=info msg=\"Executor initialized\" deadline=\"0001-01-01 00:00:00 +0000 UTC\" includeScriptOutput=false namespace=ws-serverless podName=workflow-bx75z-function-3677898574 templateName=function version=\"&Version{Version:v3.5.7,BuildDate:2024-05-27T06:18:59Z,GitCommit:503eef1357ebc9facc3f463708031441072ef7c2,GitTag:v3.5.7,GitTreeState:clean,GoVersion:go1.21.10,Compiler:gc,Platform:linux/amd64,}\"'),\n",
       " LogEntry(timestamp=datetime.datetime(2025, 4, 3, 8, 22, 21, 84535, tzinfo=datetime.timezone.utc), message='time=\"2025-04-03T08:22:21.084Z\" level=info msg=\"Start loading input artifacts...\"'),\n",
       " LogEntry(timestamp=datetime.datetime(2025, 4, 3, 8, 22, 21, 84593, tzinfo=datetime.timezone.utc), message='time=\"2025-04-03T08:22:21.084Z\" level=info msg=\"Alloc=7911 TotalAlloc=13350 Sys=25189 NumGC=4 Goroutines=4\"'),\n",
       " LogEntry(timestamp=datetime.datetime(2025, 4, 3, 8, 22, 23, 203584, tzinfo=datetime.timezone.utc), message='time=\"2025-04-03T08:22:23.203Z\" level=debug msg=\"ignore signal urgent I/O condition\" argo=true'),\n",
       " LogEntry(timestamp=datetime.datetime(2025, 4, 3, 8, 22, 23, 205178, tzinfo=datetime.timezone.utc), message='time=\"2025-04-03T08:22:23.205Z\" level=debug msg=\"ignore signal urgent I/O condition\" argo=true'),\n",
       " LogEntry(timestamp=datetime.datetime(2025, 4, 3, 8, 22, 23, 205196, tzinfo=datetime.timezone.utc), message='time=\"2025-04-03T08:22:23.205Z\" level=debug msg=\"ignore signal urgent I/O condition\" argo=true'),\n",
       " LogEntry(timestamp=datetime.datetime(2025, 4, 3, 8, 22, 23, 217967, tzinfo=datetime.timezone.utc), message='[METRICS][80a050f4-8ff2-56f5-9fb6-d885387a792a][START] {\"phase\":\"prepare_environments\", \"user\":\"benloveday\", \"timestamp\":\"2025/04/03 08:22:23\"}'),\n",
       " LogEntry(timestamp=datetime.datetime(2025, 4, 3, 8, 22, 23, 252373, tzinfo=datetime.timezone.utc), message='[2025-04-03T08:22:23+0000] [INFO] - Preparing input: img1'),\n",
       " LogEntry(timestamp=datetime.datetime(2025, 4, 3, 8, 22, 26, 425251, tzinfo=datetime.timezone.utc), message='[2025-04-03T08:22:26+0000] [INFO] - Input img1 is ready. Input location: /home/worker/workDir/inDir/eo_input/img1/S3B_OL_2_WFR____20220704T090449_20220704T090749_20220705T212437_0179_067_378_1980_MAR_O_NT_003.SEN3/xfdumanifest.xml'),\n",
       " LogEntry(timestamp=datetime.datetime(2025, 4, 3, 8, 22, 26, 445295, tzinfo=datetime.timezone.utc), message='[METRICS][80a050f4-8ff2-56f5-9fb6-d885387a792a][END] {\"phase\":\"prepare_env\", \"seconds\":\"3\", \"user\":\"benloveday\", \"timestamp\":\"2025/04/03 08:22:26\"}'),\n",
       " LogEntry(timestamp=datetime.datetime(2025, 4, 3, 8, 22, 26, 456436, tzinfo=datetime.timezone.utc), message='[METRICS][80a050f4-8ff2-56f5-9fb6-d885387a792a][START] {\"phase\":\"launch_snap\", \"user\":\"benloveday\", \"timestamp\":\"2025/04/03 08:22:26\"}'),\n",
       " LogEntry(timestamp=datetime.datetime(2025, 4, 3, 8, 22, 26, 458005, tzinfo=datetime.timezone.utc), message='[2025-04-03T08:22:26+0000] [INFO] - /usr/local/snap/bin/gpt /home/worker/workDir/graph.xml -Pimg1=/home/worker/workDir/inDir/eo_input/img1/S3B_OL_2_WFR____20220704T090449_20220704T090749_20220705T212437_0179_067_378_1980_MAR_O_NT_003.SEN3/xfdumanifest.xml -Poutput=/home/worker/workDir/outDir/output/c6aca9e0-1064-11f0-a168-6e395a4d0343'),\n",
       " LogEntry(timestamp=datetime.datetime(2025, 4, 3, 8, 22, 26, 990220, tzinfo=datetime.timezone.utc), message='WARNING: An illegal reflective access operation has occurred'),\n",
       " LogEntry(timestamp=datetime.datetime(2025, 4, 3, 8, 22, 26, 990243, tzinfo=datetime.timezone.utc), message='WARNING: Illegal reflective access by org.esa.snap.runtime.Engine (file:/usr/local/snap/snap/modules/ext/org.esa.snap.snap-core/org-esa-snap/snap-runtime.jar) to method java.lang.ClassLoader.initializePath(java.lang.String)'),\n",
       " LogEntry(timestamp=datetime.datetime(2025, 4, 3, 8, 22, 26, 990250, tzinfo=datetime.timezone.utc), message='WARNING: Please consider reporting this to the maintainers of org.esa.snap.runtime.Engine'),\n",
       " LogEntry(timestamp=datetime.datetime(2025, 4, 3, 8, 22, 26, 990256, tzinfo=datetime.timezone.utc), message='WARNING: Use --illegal-access=warn to enable warnings of further illegal reflective access operations'),\n",
       " LogEntry(timestamp=datetime.datetime(2025, 4, 3, 8, 22, 26, 990262, tzinfo=datetime.timezone.utc), message='WARNING: All illegal access operations will be denied in a future release'),\n",
       " LogEntry(timestamp=datetime.datetime(2025, 4, 3, 8, 22, 27, 205452, tzinfo=datetime.timezone.utc), message='time=\"2025-04-03T08:22:27.205Z\" level=debug msg=\"ignore signal urgent I/O condition\" argo=true'),\n",
       " LogEntry(timestamp=datetime.datetime(2025, 4, 3, 8, 22, 27, 914796, tzinfo=datetime.timezone.utc), message='WARNING: org.esa.snap.core.util.ServiceLoader: org.esa.snap.core.gpf.OperatorSpi: Provider eu.esa.opt.meris.sdr.aerosol.AerosolMergerOp$Spi not found'),\n",
       " LogEntry(timestamp=datetime.datetime(2025, 4, 3, 8, 22, 27, 915324, tzinfo=datetime.timezone.utc), message='WARNING: org.esa.snap.core.util.ServiceLoader: org.esa.snap.core.gpf.OperatorSpi: Provider eu.esa.opt.meris.sdr.aerosol.ModisAerosolOp$Spi not found'),\n",
       " LogEntry(timestamp=datetime.datetime(2025, 4, 3, 8, 22, 28, 109877, tzinfo=datetime.timezone.utc), message='INFO: org.esa.snap.core.gpf.operators.tooladapter.ToolAdapterIO: Initializing external tool adapters'),\n",
       " LogEntry(timestamp=datetime.datetime(2025, 4, 3, 8, 22, 28, 254553, tzinfo=datetime.timezone.utc), message='INFO: org.esa.snap.core.util.EngineVersionCheckActivator: Please check regularly for new updates for the best SNAP experience.'),\n",
       " LogEntry(timestamp=datetime.datetime(2025, 4, 3, 8, 22, 28, 447788, tzinfo=datetime.timezone.utc), message='WARNING: org.esa.snap.core.util.EngineVersionCheckActivator: A new SNAP version is available for download.'),\n",
       " LogEntry(timestamp=datetime.datetime(2025, 4, 3, 8, 22, 28, 447807, tzinfo=datetime.timezone.utc), message='Currently installed 10.0.0, available is 11.0.0.'),\n",
       " LogEntry(timestamp=datetime.datetime(2025, 4, 3, 8, 22, 28, 447811, tzinfo=datetime.timezone.utc), message='Please visit http://step.esa.int'),\n",
       " LogEntry(timestamp=datetime.datetime(2025, 4, 3, 8, 22, 28, 447815, tzinfo=datetime.timezone.utc), message=''),\n",
       " LogEntry(timestamp=datetime.datetime(2025, 4, 3, 8, 22, 29, 404732, tzinfo=datetime.timezone.utc), message='Executing processing graph'),\n",
       " LogEntry(timestamp=datetime.datetime(2025, 4, 3, 8, 22, 31, 207364, tzinfo=datetime.timezone.utc), message='time=\"2025-04-03T08:22:31.207Z\" level=debug msg=\"ignore signal urgent I/O condition\" argo=true'),\n",
       " LogEntry(timestamp=datetime.datetime(2025, 4, 3, 8, 22, 41, 208729, tzinfo=datetime.timezone.utc), message='time=\"2025-04-03T08:22:41.208Z\" level=debug msg=\"ignore signal urgent I/O condition\" argo=true'),\n",
       " LogEntry(timestamp=datetime.datetime(2025, 4, 3, 8, 22, 43, 210211, tzinfo=datetime.timezone.utc), message='time=\"2025-04-03T08:22:43.210Z\" level=debug msg=\"ignore signal urgent I/O condition\" argo=true'),\n",
       " LogEntry(timestamp=datetime.datetime(2025, 4, 3, 8, 22, 58, 900459, tzinfo=datetime.timezone.utc), message='10%20%30%40%50%60%....70%80%90% done.'),\n",
       " LogEntry(timestamp=datetime.datetime(2025, 4, 3, 8, 22, 59, 285963, tzinfo=datetime.timezone.utc), message='[2025-04-03T08:22:59+0000] [INFO] - SNAP execution completed successfully'),\n",
       " LogEntry(timestamp=datetime.datetime(2025, 4, 3, 8, 22, 59, 303765, tzinfo=datetime.timezone.utc), message='[METRICS][80a050f4-8ff2-56f5-9fb6-d885387a792a][END] {\"phase\":\"launch_snap\", \"seconds\":\"33\", \"user\":\"benloveday\", \"timestamp\":\"2025/04/03 08:22:59\"}'),\n",
       " LogEntry(timestamp=datetime.datetime(2025, 4, 3, 8, 22, 59, 304204, tzinfo=datetime.timezone.utc), message='time=\"2025-04-03T08:22:59.304Z\" level=debug msg=\"ignore signal child exited\" argo=true'),\n",
       " LogEntry(timestamp=datetime.datetime(2025, 4, 3, 8, 23, 0, 217085, tzinfo=datetime.timezone.utc), message='time=\"2025-04-03T08:23:00.216Z\" level=info msg=\"sub-process exited\" argo=true error=\"<nil>\"'),\n",
       " LogEntry(timestamp=datetime.datetime(2025, 4, 3, 8, 23, 26, 351751, tzinfo=datetime.timezone.utc), message='time=\"2025-04-03T08:23:26.351Z\" level=info msg=\"Starting Workflow Executor\" version=v3.5.7'),\n",
       " LogEntry(timestamp=datetime.datetime(2025, 4, 3, 8, 23, 26, 356038, tzinfo=datetime.timezone.utc), message='time=\"2025-04-03T08:23:26.355Z\" level=info msg=\"Using executor retry strategy\" Duration=1s Factor=1.6 Jitter=0.5 Steps=5'),\n",
       " LogEntry(timestamp=datetime.datetime(2025, 4, 3, 8, 23, 26, 356052, tzinfo=datetime.timezone.utc), message='time=\"2025-04-03T08:23:26.355Z\" level=info msg=\"Executor initialized\" deadline=\"0001-01-01 00:00:00 +0000 UTC\" includeScriptOutput=false namespace=ws-serverless podName=workflow-bx75z-stage-out-1792867462 templateName=stage-out version=\"&Version{Version:v3.5.7,BuildDate:2024-05-27T06:18:59Z,GitCommit:503eef1357ebc9facc3f463708031441072ef7c2,GitTag:v3.5.7,GitTreeState:clean,GoVersion:go1.21.10,Compiler:gc,Platform:linux/amd64,}\"'),\n",
       " LogEntry(timestamp=datetime.datetime(2025, 4, 3, 8, 23, 26, 518899, tzinfo=datetime.timezone.utc), message='time=\"2025-04-03T08:23:26.518Z\" level=info msg=\"Start loading input artifacts...\"'),\n",
       " LogEntry(timestamp=datetime.datetime(2025, 4, 3, 8, 23, 26, 518936, tzinfo=datetime.timezone.utc), message='time=\"2025-04-03T08:23:26.518Z\" level=info msg=\"Alloc=7600 TotalAlloc=13368 Sys=26213 NumGC=4 Goroutines=4\"'),\n",
       " LogEntry(timestamp=datetime.datetime(2025, 4, 3, 8, 23, 29, 263381, tzinfo=datetime.timezone.utc), message='SLF4J(W): Class path contains multiple SLF4J providers.'),\n",
       " LogEntry(timestamp=datetime.datetime(2025, 4, 3, 8, 23, 29, 263434, tzinfo=datetime.timezone.utc), message='SLF4J(W): Found provider [ch.qos.logback.classic.spi.LogbackServiceProvider@13969fbe]'),\n",
       " LogEntry(timestamp=datetime.datetime(2025, 4, 3, 8, 23, 29, 263448, tzinfo=datetime.timezone.utc), message='SLF4J(W): Found provider [org.slf4j.reload4j.Reload4jServiceProvider@6aaa5eb0]'),\n",
       " LogEntry(timestamp=datetime.datetime(2025, 4, 3, 8, 23, 29, 263520, tzinfo=datetime.timezone.utc), message='SLF4J(W): See https://www.slf4j.org/codes.html#multiple_bindings for an explanation.'),\n",
       " LogEntry(timestamp=datetime.datetime(2025, 4, 3, 8, 23, 29, 333535, tzinfo=datetime.timezone.utc), message='SLF4J(I): Actual provider is of type [ch.qos.logback.classic.spi.LogbackServiceProvider@13969fbe]'),\n",
       " LogEntry(timestamp=datetime.datetime(2025, 4, 3, 8, 23, 29, 367433, tzinfo=datetime.timezone.utc), message='Standard Commons Logging discovery in action with spring-jcl: please remove commons-logging.jar from classpath in order to avoid potential conflicts'),\n",
       " LogEntry(timestamp=datetime.datetime(2025, 4, 3, 8, 23, 29, 904106, tzinfo=datetime.timezone.utc), message='    _    _                _                               ___     _                                    ____               _    '),\n",
       " LogEntry(timestamp=datetime.datetime(2025, 4, 3, 8, 23, 29, 904129, tzinfo=datetime.timezone.utc), message='   F L  J J     ____     FJ __      ____      ____       F __\".  FJ_      ____     ___ _     ____     F __ ]    _    _   FJ_   '),\n",
       " LogEntry(timestamp=datetime.datetime(2025, 4, 3, 8, 23, 29, 904133, tzinfo=datetime.timezone.utc), message='  J J .. L L   F __ J   J |/ /L    F __ J    F __ J     J (___| J  _|    F __ J   F __` L   F __ J   J |--| L  J |  | L J  _|  '),\n",
       " LogEntry(timestamp=datetime.datetime(2025, 4, 3, 8, 23, 29, 904137, tzinfo=datetime.timezone.utc), message=\"  | |/  \\\\| |  | _____J  |    \\\\    | _____J  | |--| |    J\\\\___ \\\\ | |-'   | _____J | |--| |  | _____J  | |  | |  | |  | | | |-'  \"),\n",
       " LogEntry(timestamp=datetime.datetime(2025, 4, 3, 8, 23, 29, 904140, tzinfo=datetime.timezone.utc), message='  F   /\\\\   J  F L___--. F L:\\\\ J   F L___--. F L__J J   .--___) \\\\F |__-. F L___--.F L__J J  F L___--. F L__J J  F L__J J F |__-.'),\n",
       " LogEntry(timestamp=datetime.datetime(2025, 4, 3, 8, 23, 29, 904144, tzinfo=datetime.timezone.utc), message=' J___//\\\\\\\\___LJ\\\\______/FJ__L \\\\\\\\_J.J\\\\______/FJ\\\\______/F  J\\\\______J\\\\_____/J\\\\______/F)-____  LJ\\\\______/FJ\\\\______/FJ\\\\____,__L\\\\_____/'),\n",
       " LogEntry(timestamp=datetime.datetime(2025, 4, 3, 8, 23, 29, 904148, tzinfo=datetime.timezone.utc), message=' |___/  \\\\___| J______F |__L  \\\\L_| J______F  J______F    J______FJ_____F J______FJ\\\\______/F J______F  J______F  J____,__FJ_____F'),\n",
       " LogEntry(timestamp=datetime.datetime(2025, 4, 3, 8, 23, 29, 904151, tzinfo=datetime.timezone.utc), message='                                                                                 J______F                                      '),\n",
       " LogEntry(timestamp=datetime.datetime(2025, 4, 3, 8, 23, 29, 904155, tzinfo=datetime.timezone.utc), message='\"TITLE\" \"VERSION\"'),\n",
       " LogEntry(timestamp=datetime.datetime(2025, 4, 3, 8, 23, 29, 904161, tzinfo=datetime.timezone.utc), message='Powered by Spring Boot 3.3.1'),\n",
       " LogEntry(timestamp=datetime.datetime(2025, 4, 3, 8, 23, 30, 97106, tzinfo=datetime.timezone.utc), message='2025-04-03T08:23:30.085Z  INFO 27 --- [stageout] [           main] o.e.w.s.stageout.StageOutApplication     : Starting StageOutApplication v1.3.7 using Java 17.0.13 with PID 27 (/app.jar started by root in /)'),\n",
       " LogEntry(timestamp=datetime.datetime(2025, 4, 3, 8, 23, 30, 98382, tzinfo=datetime.timezone.utc), message='2025-04-03T08:23:30.098Z  INFO 27 --- [stageout] [           main] o.e.w.s.stageout.StageOutApplication     : No active profile set, falling back to 1 default profile: \"default\"'),\n",
       " LogEntry(timestamp=datetime.datetime(2025, 4, 3, 8, 23, 31, 502629, tzinfo=datetime.timezone.utc), message='2025-04-03T08:23:31.502Z  INFO 27 --- [stageout] [           main] o.s.b.w.embedded.tomcat.TomcatWebServer  : Tomcat initialized with port 8080 (http)'),\n",
       " LogEntry(timestamp=datetime.datetime(2025, 4, 3, 8, 23, 31, 516068, tzinfo=datetime.timezone.utc), message='2025-04-03T08:23:31.515Z  INFO 27 --- [stageout] [           main] o.apache.catalina.core.StandardService   : Starting service [Tomcat]'),\n",
       " LogEntry(timestamp=datetime.datetime(2025, 4, 3, 8, 23, 31, 516334, tzinfo=datetime.timezone.utc), message='2025-04-03T08:23:31.516Z  INFO 27 --- [stageout] [           main] o.apache.catalina.core.StandardEngine    : Starting Servlet engine: [Apache Tomcat/10.1.25]'),\n",
       " LogEntry(timestamp=datetime.datetime(2025, 4, 3, 8, 23, 31, 556643, tzinfo=datetime.timezone.utc), message='2025-04-03T08:23:31.556Z  INFO 27 --- [stageout] [           main] o.a.c.c.C.[Tomcat].[localhost].[/]       : Initializing Spring embedded WebApplicationContext'),\n",
       " LogEntry(timestamp=datetime.datetime(2025, 4, 3, 8, 23, 31, 558172, tzinfo=datetime.timezone.utc), message='2025-04-03T08:23:31.557Z  INFO 27 --- [stageout] [           main] w.s.c.ServletWebServerApplicationContext : Root WebApplicationContext: initialization completed in 1263 ms'),\n",
       " LogEntry(timestamp=datetime.datetime(2025, 4, 3, 8, 23, 31, 561004, tzinfo=datetime.timezone.utc), message='Standard Commons Logging discovery in action with spring-jcl: please remove commons-logging.jar from classpath in order to avoid potential conflicts'),\n",
       " LogEntry(timestamp=datetime.datetime(2025, 4, 3, 8, 23, 32, 966646, tzinfo=datetime.timezone.utc), message='2025-04-03T08:23:32.966Z  WARN 27 --- [stageout] [           main] .s.s.UserDetailsServiceAutoConfiguration : '),\n",
       " LogEntry(timestamp=datetime.datetime(2025, 4, 3, 8, 23, 32, 966672, tzinfo=datetime.timezone.utc), message=''),\n",
       " LogEntry(timestamp=datetime.datetime(2025, 4, 3, 8, 23, 32, 966677, tzinfo=datetime.timezone.utc), message='Using generated security password: 2d7ad66d-52e4-48a6-b3f5-cd4e76be434a'),\n",
       " LogEntry(timestamp=datetime.datetime(2025, 4, 3, 8, 23, 32, 966697, tzinfo=datetime.timezone.utc), message=''),\n",
       " LogEntry(timestamp=datetime.datetime(2025, 4, 3, 8, 23, 32, 966702, tzinfo=datetime.timezone.utc), message='This generated password is for development use only. Your security configuration must be updated before running your application in production.'),\n",
       " LogEntry(timestamp=datetime.datetime(2025, 4, 3, 8, 23, 32, 966705, tzinfo=datetime.timezone.utc), message=''),\n",
       " LogEntry(timestamp=datetime.datetime(2025, 4, 3, 8, 23, 32, 987306, tzinfo=datetime.timezone.utc), message='2025-04-03T08:23:32.986Z  INFO 27 --- [stageout] [           main] r$InitializeUserDetailsManagerConfigurer : Global AuthenticationManager configured with UserDetailsService bean with name inMemoryUserDetailsManager'),\n",
       " LogEntry(timestamp=datetime.datetime(2025, 4, 3, 8, 23, 33, 192919, tzinfo=datetime.timezone.utc), message=\"2025-04-03T08:23:33.192Z  INFO 27 --- [stageout] [           main] o.s.b.w.embedded.tomcat.TomcatWebServer  : Tomcat started on port 8080 (http) with context path '/'\"),\n",
       " LogEntry(timestamp=datetime.datetime(2025, 4, 3, 8, 23, 33, 215824, tzinfo=datetime.timezone.utc), message='2025-04-03T08:23:33.215Z  INFO 27 --- [stageout] [           main] o.e.w.s.stageout.StageOutApplication     : Started StageOutApplication in 3.692 seconds (process running for 4.298)'),\n",
       " LogEntry(timestamp=datetime.datetime(2025, 4, 3, 8, 23, 33, 242060, tzinfo=datetime.timezone.utc), message='2025-04-03T08:23:33.241Z  INFO 27 --- [stageout] [           main] o.e.w.s.logger.MetricsLogger             : [METRICS][80a050f4-8ff2-56f5-9fb6-d885387a792a][START] {\"phase\":\"STAGE-OUT\",\"user\":\"benloveday\",\"timestamp\":\"2025-04-03T08:23:33.221319072\"}'),\n",
       " LogEntry(timestamp=datetime.datetime(2025, 4, 3, 8, 23, 33, 250201, tzinfo=datetime.timezone.utc), message='2025-04-03T08:23:33.247Z  INFO 27 --- [stageout] [           main] o.e.w.s.logger.MetricsLogger             : [METRICS][80a050f4-8ff2-56f5-9fb6-d885387a792a][FILE] {\"phase\":\"STAGE-OUT\",\"file\":\"/home/worker/workDir/outDir/output/c6aca9e0-1064-11f0-a168-6e395a4d0343.znap.zip\",\"size\":20014173 }'),\n",
       " LogEntry(timestamp=datetime.datetime(2025, 4, 3, 8, 23, 33, 258331, tzinfo=datetime.timezone.utc), message='2025-04-03T08:23:33.257Z  INFO 27 --- [stageout] [           main] o.e.w.s.s.s.impl.ImportServiceImpl       : outputConfigs: []'),\n",
       " LogEntry(timestamp=datetime.datetime(2025, 4, 3, 8, 23, 33, 258446, tzinfo=datetime.timezone.utc), message='2025-04-03T08:23:33.258Z  INFO 27 --- [stageout] [           main] o.e.w.s.s.s.impl.ImportServiceImpl       : outputIds: []'),\n",
       " LogEntry(timestamp=datetime.datetime(2025, 4, 3, 8, 23, 33, 262339, tzinfo=datetime.timezone.utc), message='2025-04-03T08:23:33.261Z  INFO 27 --- [stageout] [           main] o.e.w.s.s.s.impl.ImportServiceImpl       : outputConfigs: [OutputConfig(outputsId=output, schema=null)]'),\n",
       " LogEntry(timestamp=datetime.datetime(2025, 4, 3, 8, 23, 33, 262508, tzinfo=datetime.timezone.utc), message='2025-04-03T08:23:33.262Z  INFO 27 --- [stageout] [           main] o.e.w.s.s.s.impl.ImportServiceImpl       : outputIdsDefinitions: []'),\n",
       " LogEntry(timestamp=datetime.datetime(2025, 4, 3, 8, 23, 33, 262871, tzinfo=datetime.timezone.utc), message='2025-04-03T08:23:33.262Z  INFO 27 --- [stageout] [           main] o.e.w.s.s.s.impl.ImportServiceImpl       : outputs ids [OutputConfig(outputsId=output, schema=null)]'),\n",
       " LogEntry(timestamp=datetime.datetime(2025, 4, 3, 8, 23, 33, 263314, tzinfo=datetime.timezone.utc), message='2025-04-03T08:23:33.263Z  INFO 27 --- [stageout] [           main] o.e.w.s.s.s.impl.ImportServiceImpl       : fileUris start pushFiles: []'),\n",
       " LogEntry(timestamp=datetime.datetime(2025, 4, 3, 8, 23, 33, 263381, tzinfo=datetime.timezone.utc), message='2025-04-03T08:23:33.263Z  INFO 27 --- [stageout] [           main] o.e.w.s.s.s.impl.ImportServiceImpl       : outputConfig working: OutputConfig(outputsId=output, schema=null)'),\n",
       " LogEntry(timestamp=datetime.datetime(2025, 4, 3, 8, 23, 33, 263571, tzinfo=datetime.timezone.utc), message='2025-04-03T08:23:33.263Z  INFO 27 --- [stageout] [           main] o.e.w.s.s.s.impl.ImportServiceImpl       : resultListOf: [/home/worker/workDir/outDir/output/c6aca9e0-1064-11f0-a168-6e395a4d0343.znap.zip]'),\n",
       " LogEntry(timestamp=datetime.datetime(2025, 4, 3, 8, 23, 34, 341338, tzinfo=datetime.timezone.utc), message='2025-04-03T08:23:34.340Z  INFO 27 --- [stageout] [           main] o.e.w.s.s.s.impl.ImportServiceImpl       : filesToIngest: [wks3:///80a050f4-8ff2-56f5-9fb6-d885387a792a/output/c6aca9e0-1064-11f0-a168-6e395a4d0343.znap.zip]'),\n",
       " LogEntry(timestamp=datetime.datetime(2025, 4, 3, 8, 23, 34, 341536, tzinfo=datetime.timezone.utc), message='2025-04-03T08:23:34.341Z  INFO 27 --- [stageout] [           main] o.e.w.s.s.s.impl.ImportServiceImpl       : fileUris added [wks3:///80a050f4-8ff2-56f5-9fb6-d885387a792a/output/c6aca9e0-1064-11f0-a168-6e395a4d0343.znap.zip]'),\n",
       " LogEntry(timestamp=datetime.datetime(2025, 4, 3, 8, 23, 34, 341912, tzinfo=datetime.timezone.utc), message='2025-04-03T08:23:34.341Z  INFO 27 --- [stageout] [           main] o.e.w.s.s.s.impl.ImportServiceImpl       : pushFiles results: ResultsCollection(results=[wks3:///80a050f4-8ff2-56f5-9fb6-d885387a792a/output/c6aca9e0-1064-11f0-a168-6e395a4d0343.znap.zip])'),\n",
       " LogEntry(timestamp=datetime.datetime(2025, 4, 3, 8, 23, 34, 342072, tzinfo=datetime.timezone.utc), message='2025-04-03T08:23:34.341Z  INFO 27 --- [stageout] [           main] o.e.w.s.s.s.impl.ImportServiceImpl       : ResultsCollection pushed: ResultsCollection(results=[wks3:///80a050f4-8ff2-56f5-9fb6-d885387a792a/output/c6aca9e0-1064-11f0-a168-6e395a4d0343.znap.zip])'),\n",
       " LogEntry(timestamp=datetime.datetime(2025, 4, 3, 8, 23, 34, 386875, tzinfo=datetime.timezone.utc), message='2025-04-03T08:23:34.386Z  INFO 27 --- [stageout] [           main] o.e.w.s.s.s.i.HttpIngestRequestService   : Request{method=POST, url=http://importer.ws-serverless.svc.cluster.local:8080/import/8491/results, headers=[Content-Type:application/json; charset=utf-8]}'),\n",
       " LogEntry(timestamp=datetime.datetime(2025, 4, 3, 8, 23, 34, 448987, tzinfo=datetime.timezone.utc), message='2025-04-03T08:23:34.448Z  INFO 27 --- [stageout] [           main] o.e.w.s.logger.MetricsLogger             : [METRICS][80a050f4-8ff2-56f5-9fb6-d885387a792a][END] {\"phase\":\"STAGE-OUT\",\"user\":\"benloveday\",\"timestamp\":\"2025-04-03T08:23:33.221319072\",\"duration\":\"1\"}'),\n",
       " LogEntry(timestamp=datetime.datetime(2025, 4, 3, 8, 23, 34, 449013, tzinfo=datetime.timezone.utc), message='2025-04-03T08:23:34.448Z  INFO 27 --- [stageout] [           main] o.e.w.s.stageout.StageOutApplication     : importResults: true'),\n",
       " LogEntry(timestamp=datetime.datetime(2025, 4, 3, 8, 23, 34, 449074, tzinfo=datetime.timezone.utc), message='2025-04-03T08:23:34.448Z  INFO 27 --- [stageout] [           main] o.e.w.s.stageout.StageOutApplication     : shutdown...'),\n",
       " LogEntry(timestamp=datetime.datetime(2025, 4, 3, 8, 23, 34, 461723, tzinfo=datetime.timezone.utc), message=\"2025-04-03T08:23:34.461Z  WARN 27 --- [stageout] [           main] o.s.b.f.support.DisposableBeanAdapter    : Invocation of close method failed on bean with name 'fileSystem': java.lang.UnsupportedOperationException\"),\n",
       " LogEntry(timestamp=datetime.datetime(2025, 4, 3, 8, 23, 34, 508264, tzinfo=datetime.timezone.utc), message='time=\"2025-04-03T08:23:34.508Z\" level=debug msg=\"ignore signal child exited\" argo=true'),\n",
       " LogEntry(timestamp=datetime.datetime(2025, 4, 3, 8, 23, 34, 916526, tzinfo=datetime.timezone.utc), message='time=\"2025-04-03T08:23:34.916Z\" level=info msg=\"sub-process exited\" argo=true error=\"<nil>\"')]"
      ]
     },
     "execution_count": 9,
     "metadata": {},
     "output_type": "execute_result"
    }
   ],
   "source": [
    "this_job.logs"
   ]
  },
  {
   "cell_type": "code",
   "execution_count": null,
   "id": "9ccf2cd6-e47d-4662-b0da-41acc3d92d87",
   "metadata": {},
   "outputs": [],
   "source": [
    "# load ZARR products"
   ]
  },
  {
   "cell_type": "code",
   "execution_count": null,
   "id": "a0fa310a-44f6-492f-9b96-f0fcb376c893",
   "metadata": {},
   "outputs": [],
   "source": [
    "ds_all = xr.open_mfdataset(os.path.join(download_dir, \"*WFR____20220704*\"), engine=\"zarr\", consolidated=False, combine=\"nested\", concat_dim=\"time\")"
   ]
  },
  {
   "cell_type": "code",
   "execution_count": null,
   "id": "f60266f1-fd6a-4295-8070-b645549bcd07",
   "metadata": {},
   "outputs": [],
   "source": [
    "ds_all"
   ]
  },
  {
   "cell_type": "code",
   "execution_count": null,
   "id": "836ef0d4-9b4b-45bc-ad28-cfb1bf699fa2",
   "metadata": {},
   "outputs": [],
   "source": [
    "ds_all.chl[1,:,:].plot()"
   ]
  },
  {
   "cell_type": "code",
   "execution_count": null,
   "id": "5d417468-5e78-43fa-88d6-39b9b9f5d75c",
   "metadata": {},
   "outputs": [],
   "source": [
    "ds_l2[\"Filtered_CHL_NN\"].plot()"
   ]
  },
  {
   "cell_type": "code",
   "execution_count": null,
   "id": "a824db67-6002-48a1-b302-9483940f6487",
   "metadata": {},
   "outputs": [],
   "source": [
    "ds_l1b[\"chl\"].plot()"
   ]
  },
  {
   "cell_type": "code",
   "execution_count": null,
   "id": "f4ee6cfc-6f64-41ee-aedb-b9d1322b41f9",
   "metadata": {},
   "outputs": [],
   "source": []
  }
 ],
 "metadata": {
  "kernelspec": {
   "display_name": "Python 3 (ipykernel)",
   "language": "python",
   "name": "python3"
  },
  "language_info": {
   "codemirror_mode": {
    "name": "ipython",
    "version": 3
   },
   "file_extension": ".py",
   "mimetype": "text/x-python",
   "name": "python",
   "nbconvert_exporter": "python",
   "pygments_lexer": "ipython3",
   "version": "3.10.16"
  }
 },
 "nbformat": 4,
 "nbformat_minor": 5
}
